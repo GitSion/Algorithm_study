{
 "cells": [
  {
   "cell_type": "markdown",
   "metadata": {},
   "source": [
    "### <span style=\"color:blue\"></span>"
   ]
  },
  {
   "cell_type": "markdown",
   "metadata": {},
   "source": [
    "<h1>1. Greedy Algorithm</h1>"
   ]
  },
  {
   "cell_type": "markdown",
   "metadata": {},
   "source": [
    "* 매 순간마다 할 수 있는 최선의 선택을 반복하면, 전체적으로도 최선의 선택을 할 수 있지 않을까?\n",
    "     => Greedy Algorithm의 핵심"
   ]
  },
  {
   "cell_type": "markdown",
   "metadata": {},
   "source": [
    "언뜻보면 당연히 맞는말 같지만, 예외는 항상 존재"
   ]
  },
  {
   "cell_type": "markdown",
   "metadata": {},
   "source": [
    "> ex) 500,400,100원 짜리 동전이 있다. 800원을 만들고 싶을 때 어떻게 하면 가장 작은 동전의 갯수를 쓸 수 있을까?"
   ]
  },
  {
   "cell_type": "markdown",
   "metadata": {},
   "source": [
    "<b>Greedy</b> 활용 : 먼저 500원 짜리부터 최대로 사용할 수 있을 만큼 사용, 그 다음 400, 100 순서"
   ]
  },
  {
   "cell_type": "markdown",
   "metadata": {},
   "source": [
    " --> 500원 1개, 100원 3개 == 4개!"
   ]
  },
  {
   "cell_type": "markdown",
   "metadata": {},
   "source": [
    "But, 실제로는 400원 2개가 정답.\n",
    "### 따라서 Greedy를 사용할 때는 Greedy 알고리즘을 쓰면 정말 정답이 되는지에 대한 <u>\"정당성 분석\"</u> 이 가장 중요!"
   ]
  },
  {
   "cell_type": "markdown",
   "metadata": {},
   "source": [
    "<h2>Greedy 활용 문제 1)</h2>"
   ]
  },
  {
   "cell_type": "markdown",
   "metadata": {},
   "source": [
    "* 입력조건 : 첫째 줄에 N과 K가 공백을 기준으로 해 각각 자연수로 주어집니다.\n",
    "* 출력조건 : 첫째 줄 N이 1이 될 때 까지 \"N에서 1을 빼기\" or \"N을 K로 나누기(단, 나누어 떨어질 때만)\" 중 하나의 연산을 실행합니다.\n",
    "<br>ex) Inuput : 25,5\n",
    "<br>   Output : 2"
   ]
  },
  {
   "cell_type": "code",
   "execution_count": null,
   "metadata": {},
   "outputs": [],
   "source": [
    "# 내 답안\n",
    "N,K = list(map(int,input().split(' ')))\n",
    "cnt = 0\n",
    "while N != 1:\n",
    "    if N % K == 0:\n",
    "        N //= K\n",
    "    else:\n",
    "        N -= 1\n",
    "        \n",
    "    cnt += 1\n",
    "    \n",
    "print(cnt)"
   ]
  },
  {
   "cell_type": "code",
   "execution_count": null,
   "metadata": {},
   "outputs": [],
   "source": [
    "# 모범 답안\n",
    "n,k = list(map(int,input().split(' ')))\n",
    "cnt = 0\n",
    "while True:\n",
    "    if n % k != 0:\n",
    "        near_num = (n // k) * k\n",
    "        cnt += n - near_num           # 배울 점!!!\n",
    "        n = near_num\n",
    "    \n",
    "    if n < k:\n",
    "        break\n",
    "        \n",
    "    n //= k\n",
    "    cnt += 1\n",
    "\n",
    "cnt += n - 1\n",
    "print(cnt)"
   ]
  },
  {
   "cell_type": "markdown",
   "metadata": {},
   "source": [
    "### <span style=\"color:blue\">내 답안은 너무 정직하게 하나하나 다 반복문을 통해 계산함. <br><br>가능하다면 모범답안같이 <u>최대한 연산횟수를 줄이려는 노력</u> 필요</span>"
   ]
  },
  {
   "cell_type": "markdown",
   "metadata": {},
   "source": [
    "<h2>활용문제 2) </h2>"
   ]
  },
  {
   "cell_type": "markdown",
   "metadata": {},
   "source": [
    "모험가 문제. 공포도가 X인 모험가는 반드시 X명 이상으로 구성한 모험가 그룹에 참여해야함. N명의 모험가에 대한 정보가 주어졌을 때, 여행을 떠날 수 있는 그룹 수의 최댓값을 구하시오.\n",
    "* 입력조건 : 첫째 줄에 모험가 수 N이 주어지고, 둘째 줄에 모험가의 공포도가 띄어쓰기를 기준으로 입력됩니다.\n",
    "* 출력조건 : 그룹 수의 최댓값이 출력됩니다.\n",
    "<br>ex) Inuput : <br>5<br>\n",
    "2 3 1 2 2\n",
    "<br>   Output : 2\n",
    "\n",
    "** 단, 모든 모험가를 그룹에 포함시킬 필요는 없음"
   ]
  },
  {
   "cell_type": "code",
   "execution_count": null,
   "metadata": {},
   "outputs": [],
   "source": [
    "# 내 풀이\n",
    "n = int(input())\n",
    "fear_list = list(map(int,input().split(' ')))\n",
    "fear_list = sorted(fear_list,reverse=True)\n",
    "point=0\n",
    "cnt=0\n",
    "while n - point >= fear_list[point] :\n",
    "    point += fear_list[point]\n",
    "    cnt += 1\n",
    "    if point > n-1:\n",
    "        break\n",
    "\n",
    "print(cnt)"
   ]
  },
  {
   "cell_type": "code",
   "execution_count": null,
   "metadata": {},
   "outputs": [],
   "source": [
    "# 모범 답안\n",
    "n = int(input())\n",
    "data = list(map(int, input().split()))\n",
    "data.sort()\n",
    "\n",
    "result = 0 # 총 그룹 수\n",
    "count = 0 # 현재 그룹에 포함된 모험가 수\n",
    "\n",
    "for i in data: # 공포도를 낮은 것부터 하나씩 확인\n",
    "    count += 1 # 현재 그룹에 해당 모험가를 포함시킴\n",
    "    if count >= i: # 현재 그룹의 모험가 수가 현재의 공포도 이상이면, 그룹 결성  \"\"&&&&&\"\"\n",
    "        result += 1 # 총 그룹의 수 증가시킴\n",
    "        count = 0 # 현재 그룹에 포함된 모험가의 수 초기화\n",
    "\n",
    "print(result)"
   ]
  },
  {
   "cell_type": "markdown",
   "metadata": {},
   "source": [
    "### <span style=\"color:blue\">사실상 틀렸다. 나는 내림차순으로 생각하고 큰거부터 묶었지만, 정답은 반대로 오름차순 후 작은거 부터 묶는거였다. <br><br>사실 처음에는 이렇게 생각했지만, 위 \"\"&&&&&\"\" 부분을 생각하지 못해 지금 내 풀이대로 푼거 같다.</span>"
   ]
  },
  {
   "cell_type": "markdown",
   "metadata": {},
   "source": [
    "<h1> 2. 구현(Implementation) </h1>"
   ]
  },
  {
   "cell_type": "markdown",
   "metadata": {},
   "source": [
    "보통 시물레이션, 유클리드 좌표계 문제 or 구현 자체가 어렵거나 어떠한 라이브러리를 쓴다면 굉장히 쉬워지는 문제 등을 일컫는다.\n",
    "\n"
   ]
  },
  {
   "cell_type": "markdown",
   "metadata": {},
   "source": [
    "<h2>문제 1) 상하좌우 문제</h2>"
   ]
  },
  {
   "cell_type": "code",
   "execution_count": null,
   "metadata": {},
   "outputs": [],
   "source": [
    "# 내 풀이\n",
    "N = int(input())\n",
    "moving_plan = input().split(' ')\n",
    "x,y = 1,1\n",
    "for i in moving_plan:\n",
    "    origin_x,origin_y = x,y\n",
    "    if i == \"R\":\n",
    "        y += 1\n",
    "    elif i == \"U\":\n",
    "        x -= 1\n",
    "    elif i == \"D\":\n",
    "        x += 1\n",
    "    else:\n",
    "        y -= 1\n",
    "        \n",
    "    if 1 <= x <= N and 1<= y <= N:\n",
    "        pass\n",
    "    \n",
    "    else:\n",
    "        x,y = origin_x,origin_y\n",
    "        \n",
    "print(x,y)"
   ]
  },
  {
   "cell_type": "code",
   "execution_count": null,
   "metadata": {},
   "outputs": [],
   "source": [
    "# 모범 답안\n",
    "N = int(input())\n",
    "moving_plan = input().split(' ')\n",
    "\n",
    "dx = [0,0,-1,1]\n",
    "dy = [-1,1,0,0]\n",
    "moving_types = ['L','R','U','D']\n",
    "\n",
    "x,y = 1,1\n",
    "\n",
    "for plan in moving_plan:\n",
    "    for i in range(len(moving_types)):\n",
    "        if plan == moving_types[i]:\n",
    "            nx = x + dx[i]\n",
    "            ny = y + dy[i]\n",
    "    if nx < 1 or ny < 1 or nx > n or ny > n:\n",
    "        continue\n",
    "    else:\n",
    "        x,y = nx,ny\n",
    "\n",
    "print(x,y)"
   ]
  },
  {
   "cell_type": "markdown",
   "metadata": {},
   "source": [
    "### <span style=\"color:blue\">이번 문제는 시간복잡도를 보나 연산횟수를 보나 내 풀이가 더 괜찮은거 같다. Good!</span>"
   ]
  },
  {
   "cell_type": "markdown",
   "metadata": {},
   "source": [
    "<h2>문제 2) 시각</h2>"
   ]
  },
  {
   "cell_type": "code",
   "execution_count": null,
   "metadata": {},
   "outputs": [],
   "source": [
    "# 내 풀이\n",
    "hour = int(input())\n",
    "\n",
    "one_minute_to_second = 0\n",
    "one_minute_in_3 = 0\n",
    "\n",
    "for _ in range(60):\n",
    "    one_minute_to_second += 1\n",
    "    if '3' in str(one_minute_to_second):\n",
    "        print\n",
    "        one_minute_in_3 += 1\n",
    "        \n",
    "\n",
    "one_hour_in_3 = one_minute_in_3 * 60 + (60 - one_minute_in_3) * 15\n",
    "\n",
    "one_day_to_hour = 0\n",
    "input_in_3 = 0\n",
    "\n",
    "\n",
    "for _ in range(hour+1):\n",
    "    one_day_to_hour += 1\n",
    "    if '3' in str(one_day_to_hour):\n",
    "        input_in_3 += 1\n",
    "\n",
    "result = (input_in_3) * 3600 + (hour+1 - input_in_3) * one_hour_in_3       \n",
    "print(result)"
   ]
  },
  {
   "cell_type": "code",
   "execution_count": null,
   "metadata": {},
   "outputs": [],
   "source": [
    "h=int(input())\n",
    "\n",
    "cnt = 0\n",
    "for i in range(h+1):\n",
    "    for j in range(60):\n",
    "        for k in range(60):\n",
    "            if '3' in str(i) + str(j) + str(k):\n",
    "                cnt += 1\n",
    "                \n",
    "print(cnt)"
   ]
  },
  {
   "cell_type": "markdown",
   "metadata": {},
   "source": [
    "### <span style=\"color:blue\">86400가지의 경우의 수를 모두 계산하는 브루트포스 문제였다. <br><br><u>제한시간이 2초이므로 모든 경우의 수를 모두 탐색해도 되겠구나</u> 라고 생각했지만 보다 효율적인 방법을 찾기 위해 고민을 오래했던 문제. <br><br> hour+1 때문에 애먹었지만, 결국 로그시간대 시간복잡도를 얻을 수 있었다. 좋은 경험!</span>"
   ]
  },
  {
   "cell_type": "markdown",
   "metadata": {},
   "source": [
    "<h2>문제 3) 왕실의 나이트</h2>"
   ]
  },
  {
   "cell_type": "code",
   "execution_count": null,
   "metadata": {},
   "outputs": [],
   "source": [
    "# 내 풀이\n",
    "col = [1,2,3,4,5,6,7,8]\n",
    "raw = ['a','b','c','d','e','f','g','h']\n",
    "\n",
    "cur = input()\n",
    "move_2 = [2,-2]\n",
    "move_1 = [1,-1]\n",
    "result = []\n",
    "x,y = int(raw.index(cur[0])) + 1,int(cur[1])\n",
    "\n",
    "for i in move_2:\n",
    "    for j in move_1:\n",
    "        dx,dy = x+i,y+j\n",
    "        if 0<dx<9 and 0<dy<9:\n",
    "            result.append((dx,dy))\n",
    "        dx,dy = x+j,y+i\n",
    "        if 0<dx<9 and 0<dy<9:\n",
    "            result.append((dx,dy))\n",
    "print(len(result))\n"
   ]
  },
  {
   "cell_type": "code",
   "execution_count": null,
   "metadata": {},
   "outputs": [],
   "source": [
    "# 모범 답안\n",
    "input_data = input()\n",
    "row = int(input_data[1])\n",
    "col = int(ord(input_data[0])) - int(ord('a')) + 1            # 배울 점!!!\n",
    "result = 0\n",
    "steps = [(2,1),(2,-1),(-2,1),(-2,-1),(1,2),(1,-2),(-1,2),(-1,-2)]\n",
    "\n",
    "for step in steps:\n",
    "    next_row = row + step[0]\n",
    "    next_col = col + step[1]\n",
    "    \n",
    "    if 1<= next_row <= 8 and 1<= next_col <= 8 :\n",
    "        result += 1\n",
    "        \n",
    "print(result)"
   ]
  },
  {
   "cell_type": "markdown",
   "metadata": {},
   "source": [
    "### <span style=\"color:blue\">둘 다 나쁘지 않은 풀이라고 생각. <br><br> <u>다만, list in list 형태보다 tuple 형태를 쓰는 것</u>에 익숙해지면 좋을듯. <br><br>또한 a,b,c 와 같은 문자를 1,2,3 으로 치환할 때 아스키코드의 주소값을 사용하는 것은 좀 신선했다. <br><br> <u>ord() 내장함수 배워간다.</u></span>"
   ]
  },
  {
   "cell_type": "markdown",
   "metadata": {},
   "source": [
    "<h3>문제 3) 문자열 재정렬</h3>"
   ]
  },
  {
   "cell_type": "code",
   "execution_count": null,
   "metadata": {},
   "outputs": [],
   "source": [
    "# 내 풀이\n",
    "s = list(input())\n",
    "s.sort()\n",
    "result = []\n",
    "sums = 0\n",
    "idx = 0\n",
    "for i in range(len(s)):\n",
    "    try:\n",
    "        num = int(s[i])\n",
    "        sums += num\n",
    "        idx += 1\n",
    "    except:\n",
    "        pass\n",
    "    \n",
    "s.append(str(sums))\n",
    "a=''.join(s[idx:])\n",
    "print(a)"
   ]
  },
  {
   "cell_type": "code",
   "execution_count": null,
   "metadata": {},
   "outputs": [],
   "source": [
    "data = input()\n",
    "result = []\n",
    "value = 0\n",
    "\n",
    "for x in data:\n",
    "    if x.isalpha():                # 배울 점!!!\n",
    "        result.append(x)\n",
    "    else:\n",
    "        value += int(x)\n",
    "        \n",
    "result.sort()\n",
    "\n",
    "if value != 0:                       # 내 코드에는 없는, 내 실수.\n",
    "    result.append(str(value))\n",
    "\n",
    "print(''.join(result))"
   ]
  },
  {
   "cell_type": "markdown",
   "metadata": {},
   "source": [
    "### <span style=\"color:blue\">input 값에 for문을 돌리는데, 그 값을 int형태로 바꿀 수 있는지 없는지로 판단해서, 어쩔 수 없이 try except 구문을 사용했다. <br><br>하지만, int형태에 집중한 것이 아닌 알파벳인지 아닌지에 집중하면 <u>isalpha() 라는 함수</u>를 쓸 수 있었다. 챙겨가자. <br><br> 또한 value값이 0인 경우를 생각못했다. 이건 내 실수. </span>"
   ]
  },
  {
   "cell_type": "markdown",
   "metadata": {},
   "source": [
    "<h1> 4. BFS/DFS </h1>"
   ]
  },
  {
   "cell_type": "markdown",
   "metadata": {},
   "source": [
    "<h2> 4-1. Recursive function(재귀함수)"
   ]
  },
  {
   "cell_type": "code",
   "execution_count": null,
   "metadata": {},
   "outputs": [],
   "source": [
    "# ex) 팩토리얼 함수\n",
    "def factorial_recursive(n):\n",
    "    if n <= 1:\n",
    "        return 1\n",
    "    else:\n",
    "        return n * factorial_recursive(n-1)\n",
    "    \n",
    "print(factorial_recursive(5))"
   ]
  },
  {
   "cell_type": "code",
   "execution_count": null,
   "metadata": {},
   "outputs": [],
   "source": [
    "# ex) 유클리드 호제법 : a,b(a>b)에 대해 a를 b로 나눈 나머지를 r이라 할 때, a,b의 최대공약수와 b,r의 최대공약수는 같다.\n",
    "def gcd(a,b):\n",
    "    r = a % b\n",
    "    if r == 0:\n",
    "        return b\n",
    "    else:\n",
    "        return gcd(b,r)\n",
    "    \n",
    "\n",
    "print(gcd(192,162))"
   ]
  },
  {
   "cell_type": "markdown",
   "metadata": {},
   "source": [
    "<h2> 4-2. DFS (Depth-First Search : 깊이 우선 탐색) : 스택 자료구조 이용"
   ]
  },
  {
   "cell_type": "markdown",
   "metadata": {},
   "source": [
    "![dfs](dfs.jpg)"
   ]
  },
  {
   "cell_type": "code",
   "execution_count": null,
   "metadata": {},
   "outputs": [],
   "source": [
    "# DFS 메서드 정의 : 재귀함수로 구현 가능!\n",
    "graph = [\n",
    "    [],\n",
    "    [2,3,8],\n",
    "    [1,7],\n",
    "    [1,4,5],\n",
    "    [3,5],\n",
    "    [3,4],\n",
    "    [7],\n",
    "    [2,6,8],\n",
    "    [1,7]\n",
    "]\n",
    "\n",
    "visited = [False]*(len(graph))\n",
    "\n",
    "def dfs(graph, v, visited):\n",
    "    visited[v] = True\n",
    "    print(v, end=' ')\n",
    "    for i in graph[v]:\n",
    "        if not visited[i]:\n",
    "            dfs(graph, i, visited)\n",
    "\n",
    "dfs(graph,1,visited) "
   ]
  },
  {
   "cell_type": "markdown",
   "metadata": {},
   "source": [
    "<h2> 4-3. BFS (Breadth-First Search : 너비 우선 탐색) : 큐 자료구조 이용"
   ]
  },
  {
   "cell_type": "markdown",
   "metadata": {},
   "source": [
    "![bfs](bfs.jpg)"
   ]
  },
  {
   "cell_type": "code",
   "execution_count": null,
   "metadata": {},
   "outputs": [],
   "source": [
    "# BFS 메서드 정의\n",
    "from collections import deque\n",
    "graph = [\n",
    "    [],\n",
    "    [2,3,8],\n",
    "    [1,7],\n",
    "    [1,4,5],\n",
    "    [3,5],\n",
    "    [3,4],\n",
    "    [7],\n",
    "    [2,6,8],\n",
    "    [1,7]\n",
    "]\n",
    "\n",
    "visited = [False]*(len(graph))\n",
    "\n",
    "def bfs(graph, start, visited):\n",
    "    queue = deque([start])\n",
    "    visited[start] = True\n",
    "    \n",
    "    while queue:\n",
    "        pops = queue.popleft()\n",
    "        print(pops, end=' ')\n",
    "        \n",
    "        for i in graph[pops]:\n",
    "            if not visited[i]:\n",
    "                queue.append(i)\n",
    "                visited[i] = True\n",
    "        \n",
    "bfs(graph,1,visited)        "
   ]
  },
  {
   "cell_type": "markdown",
   "metadata": {},
   "source": [
    "<h2>문제 1) 음료수 얼려먹기</h2>"
   ]
  },
  {
   "cell_type": "code",
   "execution_count": null,
   "metadata": {},
   "outputs": [],
   "source": [
    "# 내 풀이 (수정만 5번...)\n",
    "def dfs(graph,start_raw,start_col,visit):\n",
    "    visit[start_raw][start_col] = True\n",
    "    moving = [(1,0),(-1,0),(0,1),(0,-1)]\n",
    "    for i in moving:\n",
    "        dr,dc = i[0],i[1]\n",
    "        try:\n",
    "            if start_raw+dr>=0 and start_col+dc>=0 and graph[start_raw+dr][start_col+dc] == 0 and visit[start_raw+dr][start_col+dc] == False:\n",
    "                dfs(graph,start_raw+dr,start_col+dc,visit)\n",
    "        except:\n",
    "            continue\n",
    "    return\n",
    "\n",
    "n,m = map(int,input().split(' '))\n",
    "input_data=[]\n",
    "cnt=0\n",
    "visit = [[False]*m for _ in range(n)]\n",
    "graph = []\n",
    "for _ in range(n):\n",
    "    graph.append(tuple(map(int,list(input()))))\n",
    "\n",
    "for i in range(len(graph)):\n",
    "    for j in range(len(graph[i])):\n",
    "        if graph[i][j] == 0 and visit[i][j] == False:\n",
    "            dfs(graph,i,j,visit)\n",
    "            cnt += 1            \n",
    "print(cnt)"
   ]
  },
  {
   "cell_type": "code",
   "execution_count": null,
   "metadata": {},
   "outputs": [],
   "source": [
    "# 모범 답안\n",
    "def dfs(x,y):\n",
    "    if x < 0 or x > n-1 or y < 0 or y > m-1:\n",
    "        return False\n",
    "    \n",
    "    if graph[x][y] == 0:\n",
    "        graph[x][y] = 1\n",
    "        \n",
    "        dfs(x+1,y)\n",
    "        dfs(x-1,y)\n",
    "        dfs(x,y+1) \n",
    "        dfs(x,y-1)        # return값이 있다하더라도 따로 변수 저장이나 print 등이 없으므로 노드 출석체크 용도로만 쓰임.\n",
    "                          # 결국 첫 번째 노드에서 dfs를 시작하면, 탐색이 모두 끝난 후 True를 반환할 수 밖에 없음.\n",
    "        return True\n",
    "        \n",
    "    return False\n",
    "\n",
    "n,m = map(int,input().split(' '))\n",
    "graph=[]\n",
    "for _ in range(n):\n",
    "    graph.append(list(map(int,input())))\n",
    "\n",
    "result = 0\n",
    "for i in range(n):\n",
    "    for j in range(m):\n",
    "        if dfs(i,j) == True:\n",
    "            result += 1\n",
    "            \n",
    "print(result)"
   ]
  },
  {
   "cell_type": "markdown",
   "metadata": {},
   "source": [
    "### <span style=\"color:blue\">거의 3일동안 잡고 푼 문제. <br><br>처음에는 dfs/bfs가 아닌 일반방식으로 접근해보려고 했으나, 결국 dfs 풀이가 필연적임을 스스로 깨달을 수 있었던 좋은 경험. <br><br>처음에는 감도 못잡았지만, 힌트를 통해 어느정도 접근. <br><br>결국 답이라고 생각한 풀이를 구현해냈으나, 여러 오류로 여러 print를 통해 어떤 오류가 있었는지 하나하나 알아내어 겨우 해결함. <br><br><span style=\"color:red\"> <u>start_raw+dr>=0 and start_col+dc>=0</u></span><br><br>이게 문제였음. 이거를 생각 못해서 음수 인덱스 탐색함...<br><br>아무튼 스스로 풀어내긴 했으므로 뿌듯했다. 하지만 모범답안 같이 간결한 답안을 연습하고, 나중에 bfs로도 접근해보자!!!</span>"
   ]
  },
  {
   "cell_type": "markdown",
   "metadata": {},
   "source": [
    "<h2>문제 2) 미로 탈출</h2>"
   ]
  },
  {
   "cell_type": "code",
   "execution_count": 1,
   "metadata": {
    "scrolled": false
   },
   "outputs": [
    {
     "name": "stdout",
     "output_type": "stream",
     "text": [
      "4 5\n",
      "11011\n",
      "10010\n",
      "11111\n",
      "01101\n",
      "8\n"
     ]
    }
   ],
   "source": [
    "# 내 풀이\n",
    "from collections import deque\n",
    "n,m = map(int,input().split(' '))\n",
    "graph=[]\n",
    "result = 0\n",
    "for _ in range(n):\n",
    "    graph.append(list(map(int,input())))\n",
    "    \n",
    "def bfs(graph,x,y):\n",
    "    global result,n,m\n",
    "    queue = deque([(x-1,y-1)])\n",
    "    graph[x-1][y-1] = 0\n",
    "    while True:\n",
    "        result += 1\n",
    "        for _ in range(len(queue)):\n",
    "            pops = queue.popleft()\n",
    "            moving = [(1,0),(0,1),(-1,0),(0,-1)]\n",
    "            for i in moving:\n",
    "                dx = pops[0] + i[0]\n",
    "                dy = pops[1] + i[1]\n",
    "                \n",
    "                if dx == n-1 and dy == m-1:\n",
    "                    result += 1\n",
    "                    return\n",
    "    \n",
    "                elif 0 <= dx <= n-1 and 0 <= dy <= m-1:\n",
    "                    pass\n",
    "            \n",
    "                else:\n",
    "                    continue\n",
    "\n",
    "                if graph[dx][dy] == 0:\n",
    "                    continue\n",
    "\n",
    "                else:    \n",
    "                    graph[dx][dy] = 0\n",
    "                    queue.append((dx,dy))\n",
    "                    \n",
    "        if not queue:\n",
    "            print('Error')\n",
    "            break\n",
    "\n",
    "bfs(graph,1,1)\n",
    "print(result)"
   ]
  },
  {
   "cell_type": "code",
   "execution_count": 7,
   "metadata": {},
   "outputs": [
    {
     "name": "stdout",
     "output_type": "stream",
     "text": [
      "4 5\n",
      "11011\n",
      "10010\n",
      "11111\n",
      "01101\n",
      "8\n"
     ]
    }
   ],
   "source": [
    "# 모범 답안\n",
    "from collections import deque\n",
    "n,m = map(int,input().split(' '))\n",
    "graph=[]\n",
    "result = 0\n",
    "for _ in range(n):\n",
    "    graph.append(list(map(int,input())))\n",
    "    \n",
    "dx = [0,0,1,-1]\n",
    "dy = [1,-1,0,0]\n",
    "\n",
    "\n",
    "def bfs(x,y):\n",
    "    queue = deque()\n",
    "    queue.append((x,y))\n",
    "    \n",
    "    while queue:\n",
    "        x,y = queue.popleft()\n",
    "        for i in range(4):\n",
    "            nx = x + dx[i]\n",
    "            ny = y + dy[i]\n",
    "            # 범위 밖인 경우 continue\n",
    "            if 0 <= nx <= n-1 and 0 <= ny <= m-1:\n",
    "                pass\n",
    "            else:\n",
    "                continue\n",
    "            \n",
    "            # 옆이 길이 아닌 경우, 즉 0인 경우\n",
    "            if graph[nx][ny] == 0:\n",
    "                continue\n",
    "            \n",
    "            if graph[nx][ny] == 1:\n",
    "                graph[nx][ny] = graph[x][y] + 1\n",
    "                queue.append((nx,ny))\n",
    "                \n",
    "    return graph[n-1][m-1]\n",
    "\n",
    "print(bfs(0,0))\n",
    "    \n"
   ]
  },
  {
   "cell_type": "markdown",
   "metadata": {},
   "source": [
    "<span style=\"color:blue\">기존 내 풀이는,\n",
    "1. 이미 지나온 길은 0으로 바꾸고\n",
    "2. bfs를 이용해 한번에 2개 이상의 아이템을 큐로 받을 때, 큐가 비워질 때까지 계속 출력하게 만듦으로써 while문 한번에 result 하나가 추가되게끔 만듦.\n",
    " => for문을 하나 더 사용해서 len(queue) 만큼 반복시켜야 됨, 하지만 근본적으로 시간 차이는 없을 듯.\n",
    "    \n",
    "이 두 가지가 핵심이었다. 하지만 정석 풀이는\n",
    "\n",
    "1. 이미 지나온 길은 출발점으로부터의 거리로 바꿈으로써, for문을 하나 더 처리할 필요가 없어짐.\n",
    "2. bfs 함수의 return값을 명확히 설정함\n",
    "\n",
    "    이 두 가지 측면에서 훨씬 깔끔하다고 볼 수 있음. 하지만 마지막 <b>if graph[nx][ny] == 1: </b>이 부분을 통해 출발점 graph[0][0]이 1이 아닌 3으로 바뀐다는 점이 좀 불편함. 실제로는 1인데. 차라리 graph[1][1]을 2로 시작하고 마지막 graph[n-1][m-1] 에서 1을 뺀 값을 리턴하는게 graph 측면에서는 더 깔끔한듯? </span>"
   ]
  },
  {
   "cell_type": "markdown",
   "metadata": {},
   "source": [
    "<h1>5. Sorting(정렬 알고리즘)</h1>"
   ]
  },
  {
   "cell_type": "markdown",
   "metadata": {},
   "source": [
    "<h2>5-1. 선택 정렬</h2>"
   ]
  },
  {
   "cell_type": "markdown",
   "metadata": {},
   "source": [
    ": 처리되지 않은 데이터 중 <u>가장 작은 데이터를 선택해 맨 앞에 있는 데이터와 바꾸는 것을 반복</u>"
   ]
  },
  {
   "cell_type": "markdown",
   "metadata": {},
   "source": [
    "즉, 시간복잡도는 <b>O(n^2)</b>"
   ]
  },
  {
   "cell_type": "code",
   "execution_count": 22,
   "metadata": {},
   "outputs": [
    {
     "name": "stdout",
     "output_type": "stream",
     "text": [
      "[0, 1, 2, 3, 4, 5, 6, 7, 8, 9]\n"
     ]
    }
   ],
   "source": [
    "# 내 풀이\n",
    "array = [7,5,9,0,3,1,6,2,4,8]\n",
    "point = 0\n",
    "for i in range(len(array)):\n",
    "    mini = min(array[point:])\n",
    "    idx = array.index(mini)\n",
    "    array[point],array[idx] = array[idx],array[point]\n",
    "    point += 1\n",
    "\n",
    "print(array)"
   ]
  },
  {
   "cell_type": "code",
   "execution_count": 25,
   "metadata": {},
   "outputs": [
    {
     "name": "stdout",
     "output_type": "stream",
     "text": [
      "[0, 1, 2, 3, 4, 5, 6, 7, 8, 9]\n"
     ]
    }
   ],
   "source": [
    "# 모범 답안\n",
    "array = [7,5,9,0,3,1,6,2,4,8]\n",
    "for i in range(len(array)):\n",
    "    min_idx = i\n",
    "    for j in range(i+1,len(array)):\n",
    "        if array[min_idx] > array[j]:\n",
    "            min_idx = j\n",
    "    \n",
    "    array[i],array[min_idx] = array[min_idx],array[i]\n",
    "    \n",
    "print(array)"
   ]
  },
  {
   "cell_type": "markdown",
   "metadata": {},
   "source": [
    "### <span style=\"color:blue\">min 함수를 사용하지 않고 직접 그 인덱스를 구해서, list의 내장함수 index를 사용하지 않고 품. <br><br>확실히 모범답안이 더 좋은풀이. 배우자. </span>"
   ]
  },
  {
   "cell_type": "markdown",
   "metadata": {},
   "source": [
    "<h2>5-2. 삽입 정렬</h2>"
   ]
  },
  {
   "cell_type": "markdown",
   "metadata": {},
   "source": [
    ": 처리되지 않는 데이터를 하나씩 골라 <u>적절한 위치에 삽입.</u>"
   ]
  },
  {
   "cell_type": "code",
   "execution_count": 30,
   "metadata": {},
   "outputs": [
    {
     "name": "stdout",
     "output_type": "stream",
     "text": [
      "[0, 1, 2, 3, 4, 5, 6, 7, 8, 9]\n"
     ]
    }
   ],
   "source": [
    "# 내 풀이\n",
    "array = [7,5,9,0,3,1,6,2,4,8]\n",
    "for i in range(len(array)):\n",
    "    for j in range(i):\n",
    "        if array[j] > array[i]:\n",
    "            ins = array[i]\n",
    "            array.remove(ins)\n",
    "            array.insert(j,ins) \n",
    "            \n",
    "print(array)"
   ]
  },
  {
   "cell_type": "code",
   "execution_count": 1,
   "metadata": {},
   "outputs": [
    {
     "name": "stdout",
     "output_type": "stream",
     "text": [
      "[0, 1, 2, 3, 4, 5, 6, 7, 8, 9]\n",
      "소요 시간 : 0.00295257568359375\n"
     ]
    }
   ],
   "source": [
    "# 모범 답안\n",
    "import time\n",
    "start = time.time()\n",
    "array = [7,5,9,0,3,1,6,2,4,8]\n",
    "for i in range(1,len(array)):\n",
    "    for j in range(i,0,-1):\n",
    "        if array[j] < array[j-1]:\n",
    "            array[j],array[j-1] = array[j-1],array[j]\n",
    "        else:\n",
    "            break\n",
    "end = time.time()\n",
    "print(array)\n",
    "print(\"소요 시간 :\",end-start)"
   ]
  },
  {
   "cell_type": "markdown",
   "metadata": {},
   "source": [
    "### <span style=\"color:blue\">\"내장함수 없이 풀 수 있나?\" 라는 생각밖에 못했다. 사실상 못 품. 풀이 잘 기억하도록.</span>"
   ]
  },
  {
   "cell_type": "markdown",
   "metadata": {},
   "source": [
    "평균 시간복잡도는 O(n^2) 이지만, <u><b>현재 리스트 데이터가 거의 정렬되어 있는 상태라면 매우 빠르게 동작.</b></u>\n",
    "* <b>최선의 경우 O(n)</b>"
   ]
  },
  {
   "cell_type": "markdown",
   "metadata": {},
   "source": [
    "<h2>5-3. 퀵 정렬</h2>"
   ]
  },
  {
   "cell_type": "markdown",
   "metadata": {},
   "source": [
    "* 기준 데이터 설정, 그 기준보다 큰 데이터와 작은 데이터의 위치를 바꾸는 방법\n",
    "* C, Java, Python에서의 정렬 알고리즘\n",
    "* 가장 기본적인 퀵 정렬은 <b>첫 번째 데이터를 기준 데이터(Pivot)로 설정"
   ]
  },
  {
   "cell_type": "code",
   "execution_count": 120,
   "metadata": {
    "scrolled": false
   },
   "outputs": [
    {
     "name": "stdout",
     "output_type": "stream",
     "text": [
      "[0, 1, 2, 3, 4, 5, 6, 7, 8, 9]\n",
      "소요시간 : 0.0008544921875\n"
     ]
    }
   ],
   "source": [
    "import time\n",
    "start = time.time()\n",
    "def quick_sort(array):\n",
    "    if len(array) <= 1:\n",
    "        return array\n",
    "    \n",
    "    pivot = 0\n",
    "    while True:\n",
    "        large,small = False,False\n",
    "        switch_1,switch_2 = 0,0\n",
    "        for i in range(1,len(array)):\n",
    "            if array[pivot] < array[i] and not large:\n",
    "                switch_1 = i\n",
    "                large = True\n",
    "\n",
    "            if array[pivot] > array[len(array)-i] and not small:\n",
    "                switch_2 = len(array)-i\n",
    "                small = True\n",
    "        \n",
    "            if large and small:\n",
    "                break\n",
    "        \n",
    "        if switch_1 > switch_2:\n",
    "            array[switch_2],array[pivot] = array[pivot],array[switch_2]\n",
    "            pivot = switch_2\n",
    "            break\n",
    "            \n",
    "        else:\n",
    "            array[switch_1],array[switch_2] = array[switch_2],array[switch_1]\n",
    "\n",
    "\n",
    "            \n",
    "    if len(array) == 2:\n",
    "        return array\n",
    "         \n",
    "    front_array = array[:pivot]\n",
    "    back_array = array[pivot+1:]\n",
    "    if len(front_array) <= 1:\n",
    "        \n",
    "        pass\n",
    "    \n",
    "    else:\n",
    "        front_array = quick_sort(front_array)\n",
    "    \n",
    "    if len(back_array) <= 1:\n",
    "        pass\n",
    "    \n",
    "    else:\n",
    "        back_array = quick_sort(back_array)\n",
    "\n",
    "    result = front_array + [array[pivot]] + back_array\n",
    "    return result\n",
    "\n",
    "array = [5,7,9,0,3,1,6,2,4,8]\n",
    "print(quick_sort(array))\n",
    "\n",
    "end = time.time()\n",
    "print('소요시간 :',end-start)"
   ]
  },
  {
   "cell_type": "code",
   "execution_count": 134,
   "metadata": {},
   "outputs": [
    {
     "name": "stdout",
     "output_type": "stream",
     "text": [
      "[0, 1, 2, 3, 4, 5, 6, 7, 8, 9]\n",
      "소요시간 : 0.0007145404815673828\n"
     ]
    }
   ],
   "source": [
    "# 모범 답안\n",
    "import time\n",
    "start = time.time()\n",
    "\n",
    "def quick_sort(array, start, end):\n",
    "    if start >= end:\n",
    "        return\n",
    "    pivot = start\n",
    "    left = start + 1\n",
    "    right = len(array) - 1\n",
    "    while True:\n",
    "        while left <= end and array[left] < array[pivot]:\n",
    "            left += 1\n",
    "        while right > start and array[right] >= array[pivot]:\n",
    "            right -= 1\n",
    "        \n",
    "        if left < right:\n",
    "            array[left],array[right] = array[right],array[left]\n",
    "        else:\n",
    "            array[right],array[pivot] = array[pivot],array[right]\n",
    "            break\n",
    "        \n",
    "    quick_sort(array,start,right-1)\n",
    "    quick_sort(array,right+1,end)\n",
    "    \n",
    "    \n",
    "array = [5,7,9,0,3,1,6,2,4,8]\n",
    "quick_sort(array,0,len(array)-1)\n",
    "print(array)\n",
    "\n",
    "end = time.time()\n",
    "print('소요시간 :',end-start)"
   ]
  },
  {
   "cell_type": "markdown",
   "metadata": {},
   "source": [
    "### <span style=\"color:blue\">어떻게 보면 구현 문제인데, 얼마나 코드를 clean하게 작성하냐가 관건이었던 것 같다.<br><br>내 풀이는 if를 덕지덕지 붙여서 가독성이 떨어지지만, 모범 답안은 코드도 간결하고 가독성도 좋다. <br><br>또한 내 풀이는 피벗대로 쪼개고 쪼개어 다시 합치는 형식으로 return값을 설정했지만, 모범 답안은 start,end를 범위로 그 안에서만 quick sort를 적용시켜 나와 동일한 결과를 얻었다. <br><br>mutable한 성질 활용할 생각하기!!! <br><br>그리고 약간 의문인게, 모범 답안대로 풀다보면 [4,1,3,2]와 같은 list의 left 값은 len(array)의 값을 초과하게 된다. <br><br>물론 left &lt;= end 덕분에 오류는 안나지만, index를 나타내는 right 값이 index를 초과하게 냅두는게 맞나? 라는 생각이 듦. <br><br>과연 현업에서도 이러한 것이 허용 될까? 머 아무튼 이렇게 코드를 깔끔하게 처리하는 법은 배우고 간다.</span>"
   ]
  },
  {
   "cell_type": "code",
   "execution_count": 136,
   "metadata": {},
   "outputs": [
    {
     "name": "stdout",
     "output_type": "stream",
     "text": [
      "[0, 1, 2, 3, 4, 5, 6, 7, 8, 9]\n",
      "소요시간 : 0.0007505416870117188\n"
     ]
    }
   ],
   "source": [
    "# 조금 더 간편화한 quick sort\n",
    "import time\n",
    "start = time.time()\n",
    "def quick_sort(array):\n",
    "    if len(array) <= 1:\n",
    "        return array\n",
    "    \n",
    "    pivot = array[0]\n",
    "    tail = array[1:]\n",
    "    \n",
    "    left_array = [x for x in tail if x <= pivot]\n",
    "    right_array = [x for x in tail if x > pivot]\n",
    "    \n",
    "    return quick_sort(left_array) + [pivot] + quick_sort(right_array)\n",
    "\n",
    "array = [5,7,9,0,3,1,6,2,4,8]\n",
    "print(quick_sort(array))\n",
    "\n",
    "end = time.time()\n",
    "print('소요시간 :',end-start)"
   ]
  },
  {
   "cell_type": "markdown",
   "metadata": {},
   "source": [
    "Quick sort의 앞부분, 즉 엇갈리기 전까지 스왑하는 과정은 생략하고 바로 pivot값 보다 작은 배열을 왼쪽, 큰 배열을 오른쪽에 두고 풀어버림. 한층 더 간결해졌다!"
   ]
  },
  {
   "cell_type": "markdown",
   "metadata": {},
   "source": [
    "* 퀵 정렬의 평균 시간복잡도는 O(nlogn)\n",
    "* 하지만, 첫 번째 원소를 피벗으로 삼을 때 최악의 경우 O(n^2)\n",
    "    <br><br>ex) 이미 모두 정렬된 list ([0,1,2,3,4,5,6])"
   ]
  },
  {
   "cell_type": "markdown",
   "metadata": {},
   "source": [
    "<h2>5-4. 계수 정렬</h2>"
   ]
  },
  {
   "cell_type": "markdown",
   "metadata": {},
   "source": [
    ": 특정 조건(데이터의 크기 범위가 제한되어 <u>정수 형태</u>로 표현할 수 있을 때)에서 매우 빠르게 동작하는 알고리즘"
   ]
  },
  {
   "cell_type": "code",
   "execution_count": 17,
   "metadata": {},
   "outputs": [
    {
     "name": "stdout",
     "output_type": "stream",
     "text": [
      "0 0 1 1 2 2 3 4 5 5 6 7 8 9 9 "
     ]
    }
   ],
   "source": [
    "# 모든 값이 0보다 큰 정수라 가정\n",
    "array = [7,5,9,0,3,1,6,2,9,1,4,8,0,5,2]\n",
    "def counting_sort(array):\n",
    "    count = [0]*(max(array)+ 1)\n",
    "    for i in array:\n",
    "        count[i] += 1\n",
    "    \n",
    "    for i in range(len(count)):\n",
    "        for j in range(count[i]):\n",
    "            print(i,end=' ')\n",
    "\n",
    "counting_sort(array)"
   ]
  },
  {
   "cell_type": "markdown",
   "metadata": {},
   "source": [
    "* 시간 복잡도, 공간 복잡도 : O(N+K)\n",
    "\n",
    "* 계수 정렬은 <b><u>동일한 값을 가지는 데이터가 여러 개 나올 때</u></b> 효과적! (ex : 100점 맞은 학생이 여러 명일 경우 정렬)"
   ]
  },
  {
   "cell_type": "markdown",
   "metadata": {},
   "source": [
    "<h3> 문제 ) 두 배열의 원소 교체 </h3>"
   ]
  },
  {
   "cell_type": "code",
   "execution_count": 6,
   "metadata": {},
   "outputs": [
    {
     "name": "stdout",
     "output_type": "stream",
     "text": [
      "5 3\n",
      "1 2 5 4 3\n",
      "5 5 6 6 5\n",
      "26\n"
     ]
    }
   ],
   "source": [
    "# 내 풀이\n",
    "n,k = map(int,input().split(' '))\n",
    "input_data = []\n",
    "for _ in range(2):\n",
    "    input_data.append(list(map(int,input().split(' '))))\n",
    "\n",
    "A,B = input_data[0],input_data[1]    \n",
    "\n",
    "A.sort()\n",
    "B.sort()\n",
    "\n",
    "for i in range(k):\n",
    "    if A[i] < B[len(B)-1-i]:\n",
    "        A[i],B[len(B)-1-i] = B[len(B)-1-i],A[i]\n",
    "\n",
    "print(sum((A)))"
   ]
  },
  {
   "cell_type": "code",
   "execution_count": 8,
   "metadata": {},
   "outputs": [
    {
     "name": "stdout",
     "output_type": "stream",
     "text": [
      "5 3\n",
      "1 2 5 4 3\n",
      "5 5 6 6 5\n",
      "26\n"
     ]
    }
   ],
   "source": [
    "# 모범 답안\n",
    "n,k = map(int,input().split(' '))\n",
    "a = list(map(int,input().split(' ')))\n",
    "b = list(map(int,input().split(' ')))\n",
    "\n",
    "a.sort()\n",
    "b.sort(reverse=True)\n",
    "\n",
    "for i in range(k):\n",
    "    if a[i] < b[i]:\n",
    "        a[i],b[i] = b[i],a[i]\n",
    "    else:\n",
    "        break\n",
    "        \n",
    "print(sum(a))"
   ]
  },
  {
   "cell_type": "markdown",
   "metadata": {},
   "source": [
    "### <span style=\"color:blue\">간단한 문제. 하지만 짚고 넘어가야 할 것이 있다.<br><br> 1. a.sort() 나 a.sort(reverse=True) 모두 시간복잡도는 동일하다.(O(nlogn)) <br><br>2. 모범답안의 <u>else: break</u> 구문을 넣지 못했다. break가 있음으로써 그 뒤에 나오는 비교 연산은 모두 의미가 없는 연산이므로 패스할 수 있다. <br><br>3. 부끄럽지만, <u>if a[i] &lt; b[i]</u> 도 깜빡했다. 디테일 잘 캐치하자.</span>"
   ]
  },
  {
   "cell_type": "markdown",
   "metadata": {},
   "source": [
    "<h1>6. Binary Search(이진 탐색 알고리즘)</h1>"
   ]
  },
  {
   "cell_type": "code",
   "execution_count": 1,
   "metadata": {},
   "outputs": [
    {
     "name": "stdout",
     "output_type": "stream",
     "text": [
      "4\n"
     ]
    }
   ],
   "source": [
    "# 내 풀이\n",
    "def binary_search(array,target,start,end):\n",
    "    mid = (start + end) // 2\n",
    "    if array[start] == target:\n",
    "        return start\n",
    "    elif array[end] == target:\n",
    "        return end\n",
    "    elif array[mid] == target:\n",
    "        return mid\n",
    "    elif array[mid] < target:\n",
    "        return binary_search(array,target,mid,end)\n",
    "    elif array[mid] > target:\n",
    "        return binary_search(array,target,start,mid)\n",
    "    \n",
    "array = [1,3,5,7,9,11,13,15,17,19]\n",
    "print(binary_search(array,9,0,len(array)-1))"
   ]
  },
  {
   "cell_type": "code",
   "execution_count": 3,
   "metadata": {},
   "outputs": [
    {
     "name": "stdout",
     "output_type": "stream",
     "text": [
      "4\n"
     ]
    }
   ],
   "source": [
    "# 모범 답안\n",
    "def binary_search(array,target,start,end):\n",
    "    if start > end:\n",
    "        return None\n",
    "    mid = (start + end) // 2\n",
    "\n",
    "    if array[mid] == target:\n",
    "        return mid\n",
    "    elif array[mid] < target:\n",
    "        return binary_search(array,target,mid+1,end)\n",
    "    else:\n",
    "        return binary_search(array,target,start,mid-1)\n",
    "print(binary_search(array,9,0,len(array)-1))"
   ]
  },
  {
   "cell_type": "markdown",
   "metadata": {},
   "source": [
    "### <span style=\"color:blue\">binary_search(array,target,mid,end) <br><br>이게 아니라,<br><br> binary_search(array,target,mid+1,end) <br><br>이거다. +1 시켜야하는거 빼먹은건 좀 아쉽네. <br><br>그리고 <u><b>예외처리!!!</b></u> 이거 진짜 중요한건데 왜 빼먹지 자꾸... <br><br>start > end 가 예외처리가 될 수 있는건 고민해봐야 알았던 거지만, 이 생각 자체를 못했다. 반성하자.</span> "
   ]
  },
  {
   "cell_type": "markdown",
   "metadata": {},
   "source": [
    "<h4>파이썬에는 이미 이진탐색 라이브러리가 존재한다! : bisect_left, bisect_right</h4>"
   ]
  },
  {
   "cell_type": "code",
   "execution_count": 10,
   "metadata": {},
   "outputs": [
    {
     "name": "stdout",
     "output_type": "stream",
     "text": [
      "2\n",
      "6\n"
     ]
    }
   ],
   "source": [
    "from bisect import bisect_left, bisect_right\n",
    "\n",
    "a=[1,2,3,3,3,3,4,4,8,9]\n",
    "x=3\n",
    "\n",
    "print(bisect_left(a,x))\n",
    "print(bisect_right(a,x))"
   ]
  },
  {
   "cell_type": "markdown",
   "metadata": {},
   "source": [
    "* <h5> 이를 이용해 값이 특정 범위에 속하는 데이터 개수를 구할 수 있다.</h5>"
   ]
  },
  {
   "cell_type": "code",
   "execution_count": 12,
   "metadata": {},
   "outputs": [
    {
     "name": "stdout",
     "output_type": "stream",
     "text": [
      "2\n",
      "6\n"
     ]
    }
   ],
   "source": [
    "from bisect import bisect_left, bisect_right\n",
    "def count_by_range(array,left_value,right_value):\n",
    "    right_index = bisect_right(array,right_value)\n",
    "    left_index = bisect_left(array,left_value)\n",
    "    return right_index - left_index\n",
    "array = [1,2,3,3,3,3,4,4,8,9]\n",
    "print(count_by_range(array,4,4))\n",
    "print(count_by_range(array,-1,3))"
   ]
  },
  {
   "cell_type": "markdown",
   "metadata": {},
   "source": [
    "<h3> 문제 1 ) 떡볶이 떡 만들기 </h3>"
   ]
  },
  {
   "cell_type": "code",
   "execution_count": 5,
   "metadata": {},
   "outputs": [
    {
     "name": "stdout",
     "output_type": "stream",
     "text": [
      "2 4\n",
      "1 5 3 6 9\n"
     ]
    }
   ],
   "source": [
    "# 내 풀이\n",
    "from itertools import product \n",
    "ddeok_num,target_lens = input().split(' ')\n",
    "ddeok_len_list = list(map(int,input().split(' ')))\n",
    "cutting_len_list = [0 for _ in range(len(ddeok_len_list))]\n",
    "\n",
    "ddeok_len_list.sort(reverse=True)\n",
    "\n",
    "start = ddeok_len_list[0] - 1\n",
    "\n",
    "# start에서 1씩 빼고, 나온 ddoek_len_list, cutting_len_list 두 개의 아이템들을 조합해서 target_lens가 나오는 조합이 있는지 확인해야됨. \n",
    "# 시간복잡도가 말이 안됨... O(n^2 * 2^n) 정도 ..?\n",
    "\n",
    "# while True:\n",
    "#     for i,lens in enumerate(ddeok_len_list):\n",
    "#         if lens > start:\n",
    "#             cutting_len_list[i] = lens - start\n",
    "#             ddeok_len_list[i] = start\n",
    "#         ext = ddeok_len_list.extend(cutting_len_list)\n",
    "  \n"
   ]
  },
  {
   "cell_type": "code",
   "execution_count": 31,
   "metadata": {},
   "outputs": [
    {
     "name": "stdout",
     "output_type": "stream",
     "text": [
      "4 6\n",
      "19 15 10 17\n",
      "15\n"
     ]
    }
   ],
   "source": [
    "# 내 풀이 : 아이디어 힌트 받은 후\n",
    "ddeok_num,target_lens = list(map(int,input().split(' ')))\n",
    "ddeok_len_list = list(map(int,input().split(' ')))\n",
    "result = []\n",
    "mid = 0\n",
    "\n",
    "def binary_search(array, start, end):\n",
    "    global result,mid\n",
    "    \n",
    "    if start > end:\n",
    "        return mid\n",
    "    \n",
    "    remainder_sum = 0\n",
    "    mid = (start + end)//2\n",
    "    \n",
    "    for lens in array:\n",
    "        if lens > mid :\n",
    "            remainder_sum += lens - mid\n",
    "    \n",
    "    if remainder_sum > target_lens:\n",
    "        result.append(remainder_sum)\n",
    "        return binary_search(array,mid+1,end)\n",
    "    \n",
    "    elif remainder_sum < target_lens:\n",
    "        result.append(remainder_sum)\n",
    "        return binary_search(array,start,mid-1)\n",
    "        \n",
    "    else:\n",
    "        return mid\n",
    "\n",
    "    \n",
    "end = max(ddeok_len_list)\n",
    "start = 0\n",
    "\n",
    "print(binary_search(ddeok_len_list,start,end))"
   ]
  },
  {
   "cell_type": "code",
   "execution_count": 30,
   "metadata": {},
   "outputs": [
    {
     "name": "stdout",
     "output_type": "stream",
     "text": [
      "4 6\n",
      "19 15 10 17\n",
      "15\n"
     ]
    }
   ],
   "source": [
    "# 모범 답안\n",
    "ddeok_num,target_lens = list(map(int,input().split(' ')))\n",
    "ddeok_len_list = list(map(int,input().split(' ')))\n",
    "\n",
    "start = 0\n",
    "end = max(ddeok_len_list)\n",
    "\n",
    "result = 0\n",
    "while start <= end:\n",
    "    remainder = 0\n",
    "    mid = (start + end)//2\n",
    "    \n",
    "    for lens in ddeok_len_list:\n",
    "        if lens > mid:\n",
    "            remainder += lens - mid\n",
    "            \n",
    "    if remainder < target_lens:\n",
    "        end = mid - 1\n",
    "    \n",
    "    else:\n",
    "        result = mid\n",
    "        start = mid + 1\n",
    "        \n",
    "print(result)"
   ]
  },
  {
   "cell_type": "markdown",
   "metadata": {},
   "source": [
    "### <span style=\"color:blue\">아무리 생각해도, 발상 힌트 없이는 이진 탐색으로 접근하지 못 했을 것이다. <br><br>또한 힌트를 얻었다 해도, start가 end보다 클 때에 대해 return값을 어떻게 처리해야하는지도 고민을 많이 했고, 결국은 틀렸다. <br><br>나는 재귀함수를 이용했지만, 모범답안은 단순 while문을 이용했다. 어떻게 보면 이게 더 깔끔할지도?  </span>"
   ]
  },
  {
   "cell_type": "markdown",
   "metadata": {},
   "source": [
    "<h4>그리고 하나 더, 이건 문제가 좀 이상하지 않나 싶다. 꼭 자르고 남은 것만 손님이 가져가는건가?\n",
    "    <br><br>예를 들어 target_lens가 11이라고 하면, 각각의 list는 [18,15,10,17]이 되고, 자르고 남은 것은 [1,0,0,0]이 되서 10과 1을 결합하면 11이 아닌가? <br><br>그래서 입력값으로 4,11 엔터 후 19 15 10 17 하면 18이 출력되는게 맞는게 아닌가? 문제에는 자르고 남은 것만 가져가란 소리는 없었는데... </h4>"
   ]
  },
  {
   "cell_type": "markdown",
   "metadata": {},
   "source": [
    "<h3> 문제 2 ) 정렬된 배열에서 특정 수의 개수 구하기 </h3>\n"
   ]
  },
  {
   "cell_type": "code",
   "execution_count": 33,
   "metadata": {},
   "outputs": [
    {
     "name": "stdout",
     "output_type": "stream",
     "text": [
      "9 2\n",
      "1 1 2 2 2 2 2 2 3\n",
      "6\n"
     ]
    }
   ],
   "source": [
    "# 내 풀이 - bisect 라이브러리 사용\n",
    "from bisect import bisect_right,bisect_left\n",
    "\n",
    "input_lens,target = map(int,input().split(' '))\n",
    "input_data = list(map(int,input().split(' ')))\n",
    "\n",
    "right = bisect_right(input_data,target)\n",
    "left = bisect_left(input_data,target)\n",
    "result = right - left\n",
    "if not result:\n",
    "    print(-1)\n",
    "else:\n",
    "    print(result)"
   ]
  },
  {
   "cell_type": "code",
   "execution_count": 29,
   "metadata": {},
   "outputs": [
    {
     "name": "stdout",
     "output_type": "stream",
     "text": [
      "9 2\n",
      "1 1 2 2 2 2 2 2 3\n",
      "6\n"
     ]
    }
   ],
   "source": [
    "# 내 풀이 - 직접 구현\n",
    "input_lens,target = map(int,input().split(' '))\n",
    "input_data = list(map(int,input().split(' ')))\n",
    "\n",
    "def idx_left(array,start,end):\n",
    "    global target\n",
    "    \n",
    "    if start > end:\n",
    "        return -1\n",
    "    \n",
    "    mid = (start + end)//2\n",
    "\n",
    "    if array[mid] > target:\n",
    "        return idx_left(array,start,mid-1)\n",
    "    elif array[mid] < target:\n",
    "        return idx_left(array,mid+1,end)\n",
    "    elif array[mid] == target:\n",
    "        if mid == 0:\n",
    "            return mid\n",
    "        else:\n",
    "            if array[mid-1] == array[mid]:\n",
    "                return idx_left(array,start,mid-1)\n",
    "            else:\n",
    "                return mid\n",
    "\n",
    "def idx_right(array,start,end):\n",
    "    global target\n",
    "    \n",
    "    if start > end:\n",
    "        return -1\n",
    "    \n",
    "    mid = (start + end)//2\n",
    "\n",
    "    if array[mid] > target:\n",
    "        return idx_right(array,start,mid-1)\n",
    "    elif array[mid] < target:\n",
    "        return idx_right(array,mid+1,end)\n",
    "    elif array[mid] == target:\n",
    "        if mid == input_lens -1: \n",
    "            return mid\n",
    "        else:\n",
    "            if array[mid+1] == array[mid]:\n",
    "                return idx_right(array,mid+1,end)\n",
    "            else:\n",
    "                return mid\n",
    "\n",
    "result = idx_right(input_data,0,input_lens-1) - idx_left(input_data,0,input_lens-1) + 1\n",
    "print(result)"
   ]
  },
  {
   "cell_type": "markdown",
   "metadata": {},
   "source": [
    "<h1>7. Dynamic programming (동적 계획법)</h1>"
   ]
  },
  {
   "cell_type": "markdown",
   "metadata": {},
   "source": [
    "1) 최적 부분 구조 : 큰 문제 -> 작은 문제, 작은 문제의 답을 모아 큰 문제를 해결\n",
    "\n",
    "2) 중복되는 부분 문제 : 동일한 작은 문제 반복적으로 해결"
   ]
  },
  {
   "cell_type": "markdown",
   "metadata": {},
   "source": [
    "Ex) 피보나치 수열"
   ]
  },
  {
   "cell_type": "code",
   "execution_count": 15,
   "metadata": {},
   "outputs": [
    {
     "name": "stdout",
     "output_type": "stream",
     "text": [
      "55\n"
     ]
    }
   ],
   "source": [
    "# 단순 재귀 함수 : 똑같은 값 계속해서 계산해야 됨 --> 비효율적! (시간 복잡도 : O(2^n))\n",
    "def fibo(x):\n",
    "    if x == 1 or x == 2:\n",
    "        return 1\n",
    "    \n",
    "    return fibo(x-1) + fibo(x-2)\n",
    "\n",
    "print(fibo(10))"
   ]
  },
  {
   "cell_type": "markdown",
   "metadata": {},
   "source": [
    "위의 예와 같이 fibo(30)은 연산 횟수가 2^30 ~= 10억 가량이다. \n",
    "<br>\n",
    "그렇다면 fibo(100)은? 이론상 우주가 멸망할 때까지 끝나지 않는다. --> <b>매우매우 비효율적!\n"
   ]
  },
  {
   "cell_type": "markdown",
   "metadata": {},
   "source": [
    "<h5>다이나믹 프로그래밍으로 접근해보자!!</h5>\n",
    "\n"
   ]
  },
  {
   "cell_type": "markdown",
   "metadata": {},
   "source": [
    "<h3>메모이제이션(Memoization) : Top-down 방식</h3>"
   ]
  },
  {
   "cell_type": "markdown",
   "metadata": {},
   "source": [
    ": 한 번 구한 값을 메모리 공간에 메모하는 기법.\n",
    "<br> * 값을 기록해 놓는다는 점에서 캐싱(Caching)이라고 불림"
   ]
  },
  {
   "cell_type": "markdown",
   "metadata": {},
   "source": [
    "다이나믹 프로그래밍의 전형적 형태는 보텀업 방식!\n",
    "* 결과 저장용 리스트를 \"DP 테이블\"이라고 부름"
   ]
  },
  {
   "cell_type": "code",
   "execution_count": 16,
   "metadata": {},
   "outputs": [
    {
     "name": "stdout",
     "output_type": "stream",
     "text": [
      "218922995834555169026\n"
     ]
    }
   ],
   "source": [
    "# 탑다운 다이나믹 프로그래밍 \n",
    "d = [0]*100\n",
    "\n",
    "def fibo(x):\n",
    "    if x==1 or x==2:\n",
    "        return 1\n",
    "    \n",
    "    # 이미 계산한 적 있는 문제라면 그대로 반환!!\n",
    "    if d[x] != 0:\n",
    "        return d[x]\n",
    "    \n",
    "    d[x] = fibo(x-1) + fibo(x-2)\n",
    "    return d[x]\n",
    "\n",
    "print(fibo(99))"
   ]
  },
  {
   "cell_type": "code",
   "execution_count": 17,
   "metadata": {},
   "outputs": [
    {
     "name": "stdout",
     "output_type": "stream",
     "text": [
      "218922995834555169026\n"
     ]
    }
   ],
   "source": [
    "# 보텀업 다이나믹 프로그래밍 : 재귀함수 대신 반목문을 사용\n",
    "d = [0]*100\n",
    "\n",
    "d[1] = 1\n",
    "d[2] = 1\n",
    "\n",
    "n = 99\n",
    "for i in range(3,n+1):\n",
    "    d[i] = d[i-1] + d[i-2]\n",
    "    \n",
    "print(d[n])"
   ]
  },
  {
   "cell_type": "code",
   "execution_count": null,
   "metadata": {},
   "outputs": [],
   "source": []
  }
 ],
 "metadata": {
  "kernelspec": {
   "display_name": "Python 3",
   "language": "python",
   "name": "python3"
  },
  "language_info": {
   "codemirror_mode": {
    "name": "ipython",
    "version": 3
   },
   "file_extension": ".py",
   "mimetype": "text/x-python",
   "name": "python",
   "nbconvert_exporter": "python",
   "pygments_lexer": "ipython3",
   "version": "3.7.4"
  }
 },
 "nbformat": 4,
 "nbformat_minor": 4
}
