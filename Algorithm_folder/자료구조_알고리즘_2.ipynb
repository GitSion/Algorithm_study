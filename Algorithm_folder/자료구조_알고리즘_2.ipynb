{
 "cells": [
  {
   "cell_type": "markdown",
   "metadata": {},
   "source": [
    "<h1>7. Dynamic programming (동적 계획법)</h1>"
   ]
  },
  {
   "cell_type": "markdown",
   "metadata": {},
   "source": [
    "1) 최적 부분 구조 : 큰 문제 -> 작은 문제, 작은 문제의 답을 모아 큰 문제를 해결\n",
    "\n",
    "2) 중복되는 부분 문제 : 동일한 작은 문제 반복적으로 해결"
   ]
  },
  {
   "cell_type": "markdown",
   "metadata": {},
   "source": [
    "Ex) 피보나치 수열"
   ]
  },
  {
   "cell_type": "code",
   "execution_count": 1,
   "metadata": {},
   "outputs": [
    {
     "name": "stdout",
     "output_type": "stream",
     "text": [
      "55\n"
     ]
    }
   ],
   "source": [
    "# 단순 재귀 함수 : 똑같은 값 계속해서 계산해야 됨 --> 비효율적! (시간 복잡도 : O(2^n))\n",
    "def fibo(x):\n",
    "    if x == 1 or x == 2:\n",
    "        return 1\n",
    "    \n",
    "    return fibo(x-1) + fibo(x-2)\n",
    "\n",
    "print(fibo(10))"
   ]
  },
  {
   "cell_type": "markdown",
   "metadata": {},
   "source": [
    "위의 예와 같이 fibo(30)은 연산 횟수가 2^30 ~= 10억 가량이다. \n",
    "<br>\n",
    "그렇다면 fibo(100)은? 이론상 우주가 멸망할 때까지 끝나지 않는다. --> <b>매우매우 비효율적!\n"
   ]
  },
  {
   "cell_type": "markdown",
   "metadata": {},
   "source": [
    "<h5>다이나믹 프로그래밍으로 접근해보자!!</h5>\n",
    "\n"
   ]
  },
  {
   "cell_type": "markdown",
   "metadata": {},
   "source": [
    "<h3>메모이제이션(Memoization) : Top-down 방식</h3>"
   ]
  },
  {
   "cell_type": "markdown",
   "metadata": {},
   "source": [
    ": 한 번 구한 값을 메모리 공간에 메모하는 기법.\n",
    "<br> * 값을 기록해 놓는다는 점에서 캐싱(Caching)이라고 불림"
   ]
  },
  {
   "cell_type": "markdown",
   "metadata": {},
   "source": [
    "다이나믹 프로그래밍의 전형적 형태는 보텀업 방식!\n",
    "* 결과 저장용 리스트를 \"DP 테이블\"이라고 부름"
   ]
  },
  {
   "cell_type": "code",
   "execution_count": 3,
   "metadata": {},
   "outputs": [
    {
     "name": "stdout",
     "output_type": "stream",
     "text": [
      "218922995834555169026\n"
     ]
    }
   ],
   "source": [
    "# 탑다운 다이나믹 프로그래밍 \n",
    "d = [0]*100\n",
    "\n",
    "def fibo(x):\n",
    "    if x==1 or x==2:\n",
    "        return 1\n",
    "    \n",
    "    # 이미 계산한 적 있는 문제라면 그대로 반환!!\n",
    "    if d[x] != 0:\n",
    "        return d[x]\n",
    "    \n",
    "    d[x] = fibo(x-1) + fibo(x-2)\n",
    "    return d[x]\n",
    "\n",
    "print(fibo(99))"
   ]
  },
  {
   "cell_type": "code",
   "execution_count": 4,
   "metadata": {},
   "outputs": [
    {
     "name": "stdout",
     "output_type": "stream",
     "text": [
      "218922995834555169026\n"
     ]
    }
   ],
   "source": [
    "# 보텀업 다이나믹 프로그래밍 : 재귀함수 대신 반목문을 사용\n",
    "d = [0]*100\n",
    "\n",
    "d[1] = 1\n",
    "d[2] = 1\n",
    "\n",
    "n = 99\n",
    "for i in range(3,n+1):\n",
    "    d[i] = d[i-1] + d[i-2]\n",
    "    \n",
    "print(d[n])"
   ]
  },
  {
   "cell_type": "markdown",
   "metadata": {},
   "source": [
    "<h3> 문제 1 ) 개미 전사  </h3>\n"
   ]
  },
  {
   "cell_type": "code",
   "execution_count": 3,
   "metadata": {},
   "outputs": [
    {
     "name": "stdout",
     "output_type": "stream",
     "text": [
      "[14, 35, 17, 4, 9, 7, 18, 16, 21, 22, 6, 38, 19, 36, 31, 29, 10, 5, 11, 2, 1, 13, 33, 28, 0, 8, 39, 26, 27, 30, 24, 34, 15, 37, 25, 20, 12, 23, 3, 32]\n"
     ]
    }
   ],
   "source": [
    "import random\n",
    "random_numbers = random.sample(range(40), 40)\n",
    "print(random_numbers)"
   ]
  },
  {
   "cell_type": "code",
   "execution_count": null,
   "metadata": {},
   "outputs": [],
   "source": [
    "56 89 42 13 6 85 96 88 75 63 45 12 85 52 44 110 66"
   ]
  },
  {
   "cell_type": "code",
   "execution_count": 12,
   "metadata": {},
   "outputs": [
    {
     "name": "stdout",
     "output_type": "stream",
     "text": [
      "5 \n",
      "1 3 1\n",
      "3 [3]\n"
     ]
    }
   ],
   "source": [
    "# 내 풀이 : DP라고 할 수 있나...? 후위 순회, 즉 브루트 포스에 더 가까운 듯\n",
    "n = int(input())\n",
    "input_data = list(map(int,input().split(' ')))\n",
    "\n",
    "start = 0\n",
    "stack = []\n",
    "result = {}\n",
    "\n",
    "def choise(start):\n",
    "    global input_data,stack,result\n",
    "    \n",
    "    if start >= len(input_data):\n",
    "        result[sum(stack)] = stack\n",
    "        return\n",
    "    \n",
    "    stack_dup = stack[:]\n",
    "    stack.append(input_data[start])\n",
    "    choise(start+2)\n",
    "    choise(start+3)\n",
    "    stack = stack_dup\n",
    "    \n",
    "    \n",
    "choise(1)        \n",
    "choise(0)\n",
    "\n",
    "answer = max(result.keys())\n",
    "print(answer,result[answer])"
   ]
  },
  {
   "cell_type": "code",
   "execution_count": null,
   "metadata": {},
   "outputs": [],
   "source": []
  },
  {
   "cell_type": "code",
   "execution_count": 10,
   "metadata": {},
   "outputs": [
    {
     "name": "stdout",
     "output_type": "stream",
     "text": [
      "[1, 3, 2, 4] [1, 6, 2, 4]\n"
     ]
    }
   ],
   "source": [
    "a=[1,3,2,4]\n",
    "b=a[:]\n",
    "b[1] = 6\n",
    "print(a,b)"
   ]
  }
 ],
 "metadata": {
  "kernelspec": {
   "display_name": "Python 3",
   "language": "python",
   "name": "python3"
  },
  "language_info": {
   "codemirror_mode": {
    "name": "ipython",
    "version": 3
   },
   "file_extension": ".py",
   "mimetype": "text/x-python",
   "name": "python",
   "nbconvert_exporter": "python",
   "pygments_lexer": "ipython3",
   "version": "3.7.4"
  }
 },
 "nbformat": 4,
 "nbformat_minor": 4
}
