{
 "cells": [
  {
   "cell_type": "markdown",
   "metadata": {},
   "source": [
    "### <span style=\"color:blue\"></span>"
   ]
  },
  {
   "cell_type": "markdown",
   "metadata": {},
   "source": [
    "<h1>7. Dynamic programming (동적 계획법)</h1>"
   ]
  },
  {
   "cell_type": "markdown",
   "metadata": {},
   "source": [
    "1) 최적 부분 구조 : 큰 문제 -> 작은 문제, 작은 문제의 답을 모아 큰 문제를 해결\n",
    "\n",
    "2) 중복되는 부분 문제 : 동일한 작은 문제 반복적으로 해결"
   ]
  },
  {
   "cell_type": "markdown",
   "metadata": {},
   "source": [
    "Ex) 피보나치 수열"
   ]
  },
  {
   "cell_type": "code",
   "execution_count": 1,
   "metadata": {},
   "outputs": [
    {
     "name": "stdout",
     "output_type": "stream",
     "text": [
      "55\n"
     ]
    }
   ],
   "source": [
    "# 단순 재귀 함수 : 똑같은 값 계속해서 계산해야 됨 --> 비효율적! (시간 복잡도 : O(2^n))\n",
    "def fibo(x):\n",
    "    if x == 1 or x == 2:\n",
    "        return 1\n",
    "    \n",
    "    return fibo(x-1) + fibo(x-2)\n",
    "\n",
    "print(fibo(10))"
   ]
  },
  {
   "cell_type": "markdown",
   "metadata": {},
   "source": [
    "위의 예와 같이 fibo(30)은 연산 횟수가 2^30 ~= 10억 가량이다. \n",
    "<br>\n",
    "그렇다면 fibo(100)은? 이론상 우주가 멸망할 때까지 끝나지 않는다. --> <b>매우매우 비효율적!\n"
   ]
  },
  {
   "cell_type": "markdown",
   "metadata": {},
   "source": [
    "<h5>다이나믹 프로그래밍으로 접근해보자!!</h5>\n",
    "\n"
   ]
  },
  {
   "cell_type": "markdown",
   "metadata": {},
   "source": [
    "<h3>메모이제이션(Memoization) : Top-down 방식</h3>"
   ]
  },
  {
   "cell_type": "markdown",
   "metadata": {},
   "source": [
    ": 한 번 구한 값을 메모리 공간에 메모하는 기법.\n",
    "<br> * 값을 기록해 놓는다는 점에서 캐싱(Caching)이라고 불림"
   ]
  },
  {
   "cell_type": "markdown",
   "metadata": {},
   "source": [
    "다이나믹 프로그래밍의 전형적 형태는 보텀업 방식!\n",
    "* 결과 저장용 리스트를 \"DP 테이블\"이라고 부름"
   ]
  },
  {
   "cell_type": "code",
   "execution_count": 3,
   "metadata": {},
   "outputs": [
    {
     "name": "stdout",
     "output_type": "stream",
     "text": [
      "218922995834555169026\n"
     ]
    }
   ],
   "source": [
    "# 탑다운 다이나믹 프로그래밍 \n",
    "d = [0]*100\n",
    "\n",
    "def fibo(x):\n",
    "    if x==1 or x==2:\n",
    "        return 1\n",
    "    \n",
    "    # 이미 계산한 적 있는 문제라면 그대로 반환!!\n",
    "    if d[x] != 0:\n",
    "        return d[x]\n",
    "    \n",
    "    d[x] = fibo(x-1) + fibo(x-2)\n",
    "    return d[x]\n",
    "\n",
    "print(fibo(99))"
   ]
  },
  {
   "cell_type": "code",
   "execution_count": 4,
   "metadata": {},
   "outputs": [
    {
     "name": "stdout",
     "output_type": "stream",
     "text": [
      "218922995834555169026\n"
     ]
    }
   ],
   "source": [
    "# 보텀업 다이나믹 프로그래밍 : 재귀함수 대신 반목문을 사용\n",
    "d = [0]*100\n",
    "\n",
    "d[1] = 1\n",
    "d[2] = 1\n",
    "\n",
    "n = 99\n",
    "for i in range(3,n+1):\n",
    "    d[i] = d[i-1] + d[i-2]\n",
    "    \n",
    "print(d[n])"
   ]
  },
  {
   "cell_type": "markdown",
   "metadata": {},
   "source": [
    "<h3> 문제 1 ) 개미 전사  </h3>\n"
   ]
  },
  {
   "cell_type": "code",
   "execution_count": 12,
   "metadata": {},
   "outputs": [
    {
     "name": "stdout",
     "output_type": "stream",
     "text": [
      "[23, 18, 19, 10, 22, 1, 15, 0, 35, 38, 8, 25, 32, 21, 9, 14, 24, 30, 6, 7, 4, 3, 2, 29, 17, 13, 28, 36, 11, 31, 20, 27, 34, 33, 5, 26, 39, 12, 37, 16]\n"
     ]
    }
   ],
   "source": [
    "import random\n",
    "random_numbers = random.sample(range(40), 40)\n",
    "print(random_numbers)"
   ]
  },
  {
   "cell_type": "code",
   "execution_count": 13,
   "metadata": {},
   "outputs": [
    {
     "name": "stdout",
     "output_type": "stream",
     "text": [
      "40\n",
      "462 [23, 19, 22, 15, 38, 25, 21, 14, 30, 7, 3, 29, 13, 36, 31, 27, 33, 39, 37]\n"
     ]
    }
   ],
   "source": [
    "# 내 풀이 : DP라고 할 수 있나...? 후위 순회, 즉 브루트 포스에 더 가까운 듯\n",
    "n = int(input())\n",
    "input_data = random_numbers #list(map(int,input().split(' ')))\n",
    "\n",
    "start = 0\n",
    "stack = []\n",
    "result = {}\n",
    "\n",
    "def choise(start):\n",
    "    global input_data,stack,result\n",
    "    \n",
    "    if start >= len(input_data):\n",
    "        result[sum(stack)] = stack\n",
    "        return\n",
    "    \n",
    "    stack_dup = stack[:]\n",
    "    stack.append(input_data[start])\n",
    "    choise(start+2)\n",
    "    choise(start+3)\n",
    "    stack = stack_dup\n",
    "    \n",
    "    \n",
    "choise(1)        \n",
    "choise(0)\n",
    "\n",
    "answer = max(result.keys())\n",
    "print(answer,result[answer])"
   ]
  },
  {
   "cell_type": "code",
   "execution_count": 14,
   "metadata": {},
   "outputs": [
    {
     "name": "stdout",
     "output_type": "stream",
     "text": [
      "40\n",
      "462\n"
     ]
    }
   ],
   "source": [
    "# 모범 답안\n",
    "n = int(input())\n",
    "input_data = random_numbers #list(map(int,input().split(' ')))\n",
    "\n",
    "d = [0]*100 # 100인 이유 : 문제 조건에서 0<n<=100 이라 했음\n",
    "# 초기값 설정. 이거 생각보다 자주 빼먹더라. 반성!\n",
    "d[0] = input_data[0]\n",
    "d[1] = max(input_data[0],input_data[1])\n",
    "\n",
    "\n",
    "for i in range(2,len(input_data)):\n",
    "    d[i] = max(d[i-1],d[i-2] + input_data[i])\n",
    "\n",
    "print(d[n-1])"
   ]
  },
  {
   "cell_type": "markdown",
   "metadata": {},
   "source": [
    "### <span style=\"color:blue\"> 내 답안에 비해 진짜 우아하고 간결하다. <br><br>핵심은 <u>점화식!!!</u> <br><br>그리고 계산하는 범위를 처음에는 아주 좁게 하고 점점 늘려나가며 결과값을 dp 테이블에 저장하고, 그 값을 계속 활용해 나갔다.<br><br> 내 시간복잡도는 O(2^n) 이었지만, dp를 활용하면 O(n)이 된다. dp의 중요성을 뼈저리게 느낀 문제!  </span>"
   ]
  },
  {
   "cell_type": "markdown",
   "metadata": {},
   "source": [
    "<h3> 문제 2 ) 1로 만들기  </h3>\n"
   ]
  },
  {
   "cell_type": "code",
   "execution_count": 1,
   "metadata": {},
   "outputs": [
    {
     "name": "stdout",
     "output_type": "stream",
     "text": [
      "26\n",
      "3\n"
     ]
    }
   ],
   "source": [
    "# 내 풀이 : 1부터 n까지 모두 탐색 : 시간복잡도는 사실상 O(n) (바텀업 방식, 즉 dp를 잘 활용한듯?)\n",
    "num = int(input())\n",
    "d = [0]*30001\n",
    "\n",
    "d[1],d[2],d[3],d[4],d[5] = 0,1,1,2,1\n",
    "\n",
    "for i in range(6,num+1):\n",
    "    n5,n3,n2,n_1 = i,i,i,i\n",
    "    \n",
    "    if i % 5 == 0:\n",
    "        n5 = 1 + d[i//5]\n",
    "    if i % 3 == 0:\n",
    "        n3 = 1 + d[i//3]\n",
    "    if i % 2 == 0:\n",
    "        n2 = 1 + d[i//2]\n",
    "    n_1 = 1 + d[i-1]\n",
    "        \n",
    "    d[i] = min(n5,n3,n2,n_1)\n",
    "    \n",
    "print(d[num])"
   ]
  },
  {
   "cell_type": "code",
   "execution_count": 11,
   "metadata": {},
   "outputs": [
    {
     "name": "stdout",
     "output_type": "stream",
     "text": [
      "26\n",
      "3\n"
     ]
    }
   ],
   "source": [
    "# 모범 답안\n",
    "num = int(input())\n",
    "d = [0]*30001\n",
    "\n",
    "for i in range(2,num+1):\n",
    "    d[i] = d[i-1] + 1\n",
    "    if i % 2 == 0:\n",
    "        d[i] = min(d[i],d[i//2] + 1)\n",
    "    if i % 3 == 0:\n",
    "        d[i] = min(d[i],d[i//3] + 1)\n",
    "    if i % 5 == 0:\n",
    "        d[i] = min(d[i],d[i//5] + 1)\n",
    "print(d[num])"
   ]
  },
  {
   "cell_type": "markdown",
   "metadata": {},
   "source": [
    "### <span style=\"color:blue\">dp를 아주 잘 활용하여 풀었다. 굉장히 만족스러운 문제. <br><br>다만, 해당 문제 테마가 dp가 아니었다 해도 dp를 떠올릴 수 있었을까...? <br><br>dp문제였기 때문에, 막연히 '바텀업 방식이 적용될 수 없을까?' 라는 궁금증을 가졌고, 우연히 맞아 떨어진게 아닌가 생각이 든다. <br><br>그래도 앞으로 이런식으로 문제를 접근하는 방법도 하나의 접근법으로 남겨두면 굉장히 유용할 것 같다.</span>"
   ]
  },
  {
   "cell_type": "markdown",
   "metadata": {},
   "source": [
    "<h3> 문제 3 ) 효율적인 화폐구성  </h3>"
   ]
  },
  {
   "cell_type": "code",
   "execution_count": 31,
   "metadata": {},
   "outputs": [
    {
     "name": "stdout",
     "output_type": "stream",
     "text": [
      "2 15\n",
      "2\n",
      "3\n",
      "5\n"
     ]
    }
   ],
   "source": [
    "# 내 풀이\n",
    "money_type_cnt,target = map(int,input().split(' '))\n",
    "money_type = []\n",
    "for _ in range(money_type_cnt):\n",
    "    money_type.append(int(input()))\n",
    "\n",
    "d = [0]*10001\n",
    "\n",
    "for tg in range(1,target+1):\n",
    "    cnt = []\n",
    "    for types in money_type:\n",
    "        if tg - types >= 0:\n",
    "            if d[tg - types] != -1:\n",
    "                cnt.append(d[tg - types] + 1)\n",
    "\n",
    "    if cnt != []:\n",
    "        d[tg] = min(cnt)\n",
    "    \n",
    "    if d[tg] == 0:\n",
    "        d[tg] = -1\n",
    "        continue\n",
    "    \n",
    "            \n",
    "print(d[target])    "
   ]
  }
 ],
 "metadata": {
  "kernelspec": {
   "display_name": "Python 3",
   "language": "python",
   "name": "python3"
  },
  "language_info": {
   "codemirror_mode": {
    "name": "ipython",
    "version": 3
   },
   "file_extension": ".py",
   "mimetype": "text/x-python",
   "name": "python",
   "nbconvert_exporter": "python",
   "pygments_lexer": "ipython3",
   "version": "3.7.4"
  }
 },
 "nbformat": 4,
 "nbformat_minor": 4
}
