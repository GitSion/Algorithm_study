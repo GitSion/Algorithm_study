{
 "cells": [
  {
   "cell_type": "markdown",
   "metadata": {},
   "source": [
    "### <span style=\"color:blue\"></span>"
   ]
  },
  {
   "cell_type": "markdown",
   "metadata": {},
   "source": [
    "<h1>7. Dynamic programming (동적 계획법)</h1>"
   ]
  },
  {
   "cell_type": "markdown",
   "metadata": {},
   "source": [
    "1) 최적 부분 구조 : 큰 문제 -> 작은 문제, 작은 문제의 답을 모아 큰 문제를 해결\n",
    "\n",
    "2) 중복되는 부분 문제 : 동일한 작은 문제 반복적으로 해결"
   ]
  },
  {
   "cell_type": "markdown",
   "metadata": {},
   "source": [
    "Ex) 피보나치 수열"
   ]
  },
  {
   "cell_type": "code",
   "execution_count": 2,
   "metadata": {},
   "outputs": [
    {
     "name": "stdout",
     "output_type": "stream",
     "text": [
      "832040\n"
     ]
    }
   ],
   "source": [
    "# 단순 재귀 함수 : 똑같은 값 계속해서 계산해야 됨 --> 비효율적! (시간 복잡도 : O(2^n))\n",
    "def fibo(x):\n",
    "    if x == 1 or x == 2:\n",
    "        return 1\n",
    "    \n",
    "    return fibo(x-1) + fibo(x-2)\n",
    "\n",
    "print(fibo(30))"
   ]
  },
  {
   "cell_type": "markdown",
   "metadata": {},
   "source": [
    "위의 예와 같이 fibo(30)은 연산 횟수가 2^30 ~= 10억 가량이다. \n",
    "<br>\n",
    "그렇다면 fibo(100)은? 이론상 우주가 멸망할 때까지 끝나지 않는다. --> <b>매우매우 비효율적!\n"
   ]
  },
  {
   "cell_type": "markdown",
   "metadata": {},
   "source": [
    "<h5>다이나믹 프로그래밍으로 접근해보자!!</h5>\n",
    "\n"
   ]
  },
  {
   "cell_type": "markdown",
   "metadata": {},
   "source": [
    "<h3>메모이제이션(Memoization) : Top-down 방식</h3>"
   ]
  },
  {
   "cell_type": "markdown",
   "metadata": {},
   "source": [
    ": 한 번 구한 값을 메모리 공간에 메모하는 기법.\n",
    "<br> * 값을 기록해 놓는다는 점에서 캐싱(Caching)이라고 불림"
   ]
  },
  {
   "cell_type": "markdown",
   "metadata": {},
   "source": [
    "다이나믹 프로그래밍의 전형적 형태는 보텀업 방식!\n",
    "* 결과 저장용 리스트를 \"DP 테이블\"이라고 부름"
   ]
  },
  {
   "cell_type": "code",
   "execution_count": 3,
   "metadata": {},
   "outputs": [
    {
     "name": "stdout",
     "output_type": "stream",
     "text": [
      "218922995834555169026\n"
     ]
    }
   ],
   "source": [
    "# 탑다운 다이나믹 프로그래밍 \n",
    "d = [0]*100\n",
    "\n",
    "def fibo(x):\n",
    "    if x==1 or x==2:\n",
    "        return 1\n",
    "    \n",
    "    # 이미 계산한 적 있는 문제라면 그대로 반환!!\n",
    "    if d[x] != 0:\n",
    "        return d[x]\n",
    "    \n",
    "    d[x] = fibo(x-1) + fibo(x-2)\n",
    "    return d[x]\n",
    "\n",
    "print(fibo(99))"
   ]
  },
  {
   "cell_type": "code",
   "execution_count": 4,
   "metadata": {},
   "outputs": [
    {
     "name": "stdout",
     "output_type": "stream",
     "text": [
      "218922995834555169026\n"
     ]
    }
   ],
   "source": [
    "# 보텀업 다이나믹 프로그래밍 : 재귀함수 대신 반목문을 사용\n",
    "d = [0]*100\n",
    "\n",
    "d[1] = 1\n",
    "d[2] = 1\n",
    "\n",
    "n = 99\n",
    "for i in range(3,n+1):\n",
    "    d[i] = d[i-1] + d[i-2]\n",
    "    \n",
    "print(d[n])"
   ]
  },
  {
   "cell_type": "markdown",
   "metadata": {},
   "source": [
    "<h3> 문제 1 ) 개미 전사  </h3>\n"
   ]
  },
  {
   "cell_type": "code",
   "execution_count": 12,
   "metadata": {},
   "outputs": [
    {
     "name": "stdout",
     "output_type": "stream",
     "text": [
      "[23, 18, 19, 10, 22, 1, 15, 0, 35, 38, 8, 25, 32, 21, 9, 14, 24, 30, 6, 7, 4, 3, 2, 29, 17, 13, 28, 36, 11, 31, 20, 27, 34, 33, 5, 26, 39, 12, 37, 16]\n"
     ]
    }
   ],
   "source": [
    "import random\n",
    "random_numbers = random.sample(range(40), 40)\n",
    "print(random_numbers)"
   ]
  },
  {
   "cell_type": "code",
   "execution_count": 13,
   "metadata": {},
   "outputs": [
    {
     "name": "stdout",
     "output_type": "stream",
     "text": [
      "40\n",
      "462 [23, 19, 22, 15, 38, 25, 21, 14, 30, 7, 3, 29, 13, 36, 31, 27, 33, 39, 37]\n"
     ]
    }
   ],
   "source": [
    "# 내 풀이 : DP라고 할 수 있나...? 후위 순회, 즉 브루트 포스에 더 가까운 듯\n",
    "n = int(input())\n",
    "input_data = random_numbers #list(map(int,input().split(' ')))\n",
    "\n",
    "start = 0\n",
    "stack = []\n",
    "result = {}\n",
    "\n",
    "def choise(start):\n",
    "    global input_data,stack,result\n",
    "    \n",
    "    if start >= len(input_data):\n",
    "        result[sum(stack)] = stack\n",
    "        return\n",
    "    \n",
    "    stack_dup = stack[:]\n",
    "    stack.append(input_data[start])\n",
    "    choise(start+2)\n",
    "    choise(start+3)\n",
    "    stack = stack_dup\n",
    "    \n",
    "    \n",
    "choise(1)        \n",
    "choise(0)\n",
    "\n",
    "answer = max(result.keys())\n",
    "print(answer,result[answer])"
   ]
  },
  {
   "cell_type": "code",
   "execution_count": 14,
   "metadata": {},
   "outputs": [
    {
     "name": "stdout",
     "output_type": "stream",
     "text": [
      "40\n",
      "462\n"
     ]
    }
   ],
   "source": [
    "# 모범 답안\n",
    "n = int(input())\n",
    "input_data = random_numbers #list(map(int,input().split(' ')))\n",
    "\n",
    "d = [0]*100 # 100인 이유 : 문제 조건에서 0<n<=100 이라 했음\n",
    "\n",
    "# 초기값 설정. 이거 생각보다 자주 빼먹더라. 반성!\n",
    "d[0] = input_data[0]\n",
    "d[1] = max(input_data[0],input_data[1])\n",
    "\n",
    "\n",
    "for i in range(2,len(input_data)):\n",
    "    d[i] = max(d[i-1],d[i-2] + input_data[i])\n",
    "\n",
    "print(d[n-1])"
   ]
  },
  {
   "cell_type": "markdown",
   "metadata": {},
   "source": [
    "### <span style=\"color:blue\"> 내 답안에 비해 진짜 우아하고 간결하다. <br><br>핵심은 <u>점화식!!!</u> <br><br>그리고 계산하는 범위를 처음에는 아주 좁게 하고 점점 늘려나가며 결과값을 dp 테이블에 저장하고, 그 값을 계속 활용해 나갔다.<br><br> 내 시간복잡도는 O(2^n) 이었지만, dp를 활용하면 O(n)이 된다. dp의 중요성을 뼈저리게 느낀 문제!  </span>"
   ]
  },
  {
   "cell_type": "markdown",
   "metadata": {},
   "source": [
    "<h3> 문제 2 ) 1로 만들기  </h3>\n"
   ]
  },
  {
   "cell_type": "code",
   "execution_count": 1,
   "metadata": {},
   "outputs": [
    {
     "name": "stdout",
     "output_type": "stream",
     "text": [
      "26\n",
      "3\n"
     ]
    }
   ],
   "source": [
    "# 내 풀이 : 1부터 n까지 모두 탐색 : 시간복잡도는 사실상 O(n) (바텀업 방식, 즉 dp를 잘 활용한듯?)\n",
    "num = int(input())\n",
    "d = [0]*30001\n",
    "\n",
    "d[1],d[2],d[3],d[4],d[5] = 0,1,1,2,1\n",
    "\n",
    "for i in range(6,num+1):\n",
    "    n5,n3,n2,n_1 = i,i,i,i\n",
    "    \n",
    "    if i % 5 == 0:\n",
    "        n5 = 1 + d[i//5]\n",
    "    if i % 3 == 0:\n",
    "        n3 = 1 + d[i//3]\n",
    "    if i % 2 == 0:\n",
    "        n2 = 1 + d[i//2]\n",
    "    n_1 = 1 + d[i-1]\n",
    "        \n",
    "    d[i] = min(n5,n3,n2,n_1)\n",
    "    \n",
    "print(d[num])"
   ]
  },
  {
   "cell_type": "code",
   "execution_count": 11,
   "metadata": {},
   "outputs": [
    {
     "name": "stdout",
     "output_type": "stream",
     "text": [
      "26\n",
      "3\n"
     ]
    }
   ],
   "source": [
    "# 모범 답안\n",
    "num = int(input())\n",
    "d = [0]*30001\n",
    "\n",
    "for i in range(2,num+1):\n",
    "    d[i] = d[i-1] + 1\n",
    "    if i % 2 == 0:\n",
    "        d[i] = min(d[i],d[i//2] + 1)\n",
    "    if i % 3 == 0:\n",
    "        d[i] = min(d[i],d[i//3] + 1)\n",
    "    if i % 5 == 0:\n",
    "        d[i] = min(d[i],d[i//5] + 1)\n",
    "print(d[num])"
   ]
  },
  {
   "cell_type": "markdown",
   "metadata": {},
   "source": [
    "### <span style=\"color:blue\">dp를 아주 잘 활용하여 풀었다. 굉장히 만족스러운 문제. <br><br>다만, 해당 문제 테마가 dp가 아니었다 해도 dp를 떠올릴 수 있었을까...? <br><br>dp문제였기 때문에, 막연히 '바텀업 방식이 적용될 수 없을까?' 라는 궁금증을 가졌고, 우연히 맞아 떨어진게 아닌가 생각이 든다. <br><br>그래도 앞으로 이런식으로 문제를 접근하는 방법도 하나의 접근법으로 남겨두면 굉장히 유용할 것 같다.</span>"
   ]
  },
  {
   "cell_type": "markdown",
   "metadata": {},
   "source": [
    "<h3> 문제 3 ) 효율적인 화폐구성  </h3>"
   ]
  },
  {
   "cell_type": "code",
   "execution_count": 19,
   "metadata": {},
   "outputs": [
    {
     "name": "stdout",
     "output_type": "stream",
     "text": [
      "3 18\n",
      "3\n",
      "4\n",
      "5\n",
      "4\n"
     ]
    }
   ],
   "source": [
    "'''내 풀이 : 전형적인 바텀업 dp방식. \n",
    "range(1,target+1) 범위를 앞에서부터 하나하나 살펴보며 만들 수 있는지 없는지(-1), 있으면 몇개 필요한지 기록해나감. \n",
    "if가 많은거 빼고는 만족스러운데??'''\n",
    "\n",
    "money_type_cnt,target = map(int,input().split(' '))\n",
    "money_type = []\n",
    "for _ in range(money_type_cnt):\n",
    "    money_type.append(int(input()))\n",
    "\n",
    "d = [0]*10001\n",
    "\n",
    "for tg in range(1,target+1):\n",
    "    cnt = []\n",
    "    for types in money_type:\n",
    "        if tg - types >= 0:\n",
    "            if d[tg - types] != -1:\n",
    "                cnt.append(d[tg - types] + 1)\n",
    "\n",
    "    if cnt != []:\n",
    "        d[tg] = min(cnt)\n",
    "    \n",
    "    else:\n",
    "        d[tg] = -1\n",
    "        continue\n",
    "    \n",
    "            \n",
    "print(d[target])"
   ]
  },
  {
   "cell_type": "code",
   "execution_count": 18,
   "metadata": {},
   "outputs": [
    {
     "name": "stdout",
     "output_type": "stream",
     "text": [
      "3 18\n",
      "3\n",
      "4\n",
      "5\n",
      "4\n"
     ]
    }
   ],
   "source": [
    "# 모범 답안 : 기존 dp문제는 dp테이블을 [0]으로 초기화한 것과 비교되는 문제. 여기는 이론상 무한값인 10001로 초기화하고, min을 사용했다.\n",
    "money_type_cnt,target = map(int,input().split(' '))\n",
    "money_type = []\n",
    "for _ in range(money_type_cnt):\n",
    "    money_type.append(int(input()))\n",
    "    \n",
    "d = [10001]*(target+1)\n",
    "\n",
    "d[0] = 0\n",
    "\n",
    "for types in money_type:\n",
    "    for tg in range(types,target + 1):\n",
    "        if d[tg - types] != 10001:\n",
    "            d[tg] = min(d[tg],d[tg - types] + 1)\n",
    "            \n",
    "if d[target] == 10001:\n",
    "    print(-1)\n",
    "    \n",
    "else:\n",
    "    print(d[target])"
   ]
  },
  {
   "cell_type": "markdown",
   "metadata": {},
   "source": [
    "### <span style=\"color:blue\">두개 다 dp 바텀업 방식으로 잘 품. 내 풀이에서 조금 아쉬운게 있다면, ct=[]를 활용해 모범답안보다 공간복잡도가 조금 더 나왔다. <br><br>그리고 주목해야할 점은, dp테이블을 초기화하는 방식이 꼭 [0]만이 있는 것이 아니라는 점. <br><br>min을 사용하기 위해 문제 안에서 나올 수 없는 아주 큰 값(이 문제에서는 10001)으로 초기화 할 수도 있다. <br><br>이건 배워가자!! <br><br>** <u>모범답안처럼 dp테이블을 10001로 초기화하고 문제를 풀었다면, 공간복잡도 역시 줄일 수 있었다!!</u></span>"
   ]
  },
  {
   "cell_type": "markdown",
   "metadata": {},
   "source": [
    "<h3> 문제 4 ) 금광  </h3>"
   ]
  },
  {
   "cell_type": "code",
   "execution_count": 26,
   "metadata": {},
   "outputs": [
    {
     "name": "stdout",
     "output_type": "stream",
     "text": [
      "2\n",
      "3 4\n",
      "1 3 3 2 2 1 4 1 0 6 4 7\n",
      "19\n",
      "4 4\n",
      "1 3 1 5 2 2 4 1 5 0 2 3 0 6 1 2\n",
      "16\n"
     ]
    }
   ],
   "source": [
    "# 내 풀이 : 아이디어도 잘 떠올렸고 잘 푼거 같음. 다만 범위 밖 처리를 if로 처리한게 좀 아쉬움.\n",
    "test_case = int(input())\n",
    "\n",
    "def optm_gold(case,row,col):\n",
    "    # dp테이블 초기화 (첫 열은 case의 첫 열과 동일하게 초기화)\n",
    "    dp = [[0]*col for _ in range(row)]\n",
    "    for rows,cases in zip(dp,case):\n",
    "        rows[0] = cases[0]\n",
    "        \n",
    "    # 행,열이 각각 1인 경우 예외처리\n",
    "    if row == 1:\n",
    "        return sum(case[0])\n",
    "    elif col == 1:\n",
    "        return max([i[0] for i in case])\n",
    "    \n",
    "    # 그 외의 경우\n",
    "    for j in range(1,col):\n",
    "        for i in range(row):\n",
    "            if i == 0:\n",
    "                dp[i][j] = case[i][j] + max(dp[i][j-1],dp[i+1][j-1])\n",
    "            elif i == row - 1:\n",
    "                dp[i][j] = case[i][j] + max(dp[i-1][j-1],dp[i][j-1])\n",
    "            else:\n",
    "                dp[i][j] = case[i][j] + max(dp[i][j-1],dp[i-1][j-1],dp[i+1][j-1])\n",
    "            \n",
    "    return max([i[-1] for i in dp])\n",
    "   \n",
    "\n",
    "for _ in range(test_case):\n",
    "    row,col = map(int,input().split(' '))\n",
    "    before_case = list(map(int,input().split(' ')))\n",
    "    after_case = [before_case[i:i+col] for i in range(0,len(before_case),col)]\n",
    "    print(optm_gold(after_case,row,col))"
   ]
  },
  {
   "cell_type": "code",
   "execution_count": 29,
   "metadata": {},
   "outputs": [
    {
     "name": "stdout",
     "output_type": "stream",
     "text": [
      "2\n",
      "3 4\n",
      "1 3 3 2 2 1 4 1 0 6 4 7\n",
      "19\n",
      "4 4\n",
      "1 3 1 5 2 2 4 1 5 0 2 3 0 6 1 2\n",
      "16\n"
     ]
    }
   ],
   "source": [
    "# 모범 답안\n",
    "for _ in range(int(input())):\n",
    "    row,col = map(int,input().split(' '))\n",
    "    array = list(map(int,input().split(' ')))\n",
    "    dp = []\n",
    "    index = 0\n",
    "    # 문제에서 제시한 행,열에 맞게 2d list로 dp 테이블 초기화 \n",
    "    for _ in range(row):\n",
    "        dp.append(array[index:index+col])\n",
    "        index += col\n",
    "    \n",
    "    for j in range(1,col):\n",
    "        for i in range(row):\n",
    "            # 왼쪽 위에서 오는 경우\n",
    "            if i == 0:\n",
    "                left_up = 0\n",
    "            else:\n",
    "                left_up = dp[i-1][j-1]\n",
    "            \n",
    "            # 왼쪽 아래에서 오는 경우\n",
    "            if i == row - 1:\n",
    "                left_down = 0\n",
    "            else:\n",
    "                left_down = dp[i+1][j-1]\n",
    "             \n",
    "            # 왼쪽에서 오는 경우\n",
    "            left = dp[i][j-1]\n",
    "            \n",
    "            dp[i][j] = dp[i][j] + max(left_up,left,left_down)\n",
    "    \n",
    "    result = 0\n",
    "    for i in range(row):\n",
    "        result=  max(result,dp[i][col-1])\n",
    "        \n",
    "    print(result)"
   ]
  },
  {
   "cell_type": "markdown",
   "metadata": {},
   "source": [
    "### <span style=\"color:blue\">문제 푸는 발상은 정확히 맞혔다. 세부적인 구현 방식에는 차이가 있지만, 두 개 다 나름 깔끔한 답변 같다. 배울 점은 다음과 같다. <br><br> 1. 내 풀이는 예외처리(row == 1인 경우)를 하나하나 해준게 마음에 들지 않았는데, 모범 답안에서는 left_up,left_down 이라는 변수를 새로 둠으로써 예외처리를 피해나갔다. <br><br>2. for문에서 두 개의 변수를 다루고 싶은 경우 zip으로 묶고 다루기. <br><br>3. after_case = [before_case[i:i+col] for i in range(0,len(before_case),col)] 해당 표현식 고찰 후 나중에 사용할 수 있도록!  <br><br>4. dp테이블을 반드시 0으로 초기화할 필요는 없다. </span>"
   ]
  },
  {
   "cell_type": "markdown",
   "metadata": {},
   "source": [
    "<h3> 문제 5 ) 병사 배치하기  </h3>"
   ]
  },
  {
   "cell_type": "code",
   "execution_count": 3,
   "metadata": {},
   "outputs": [
    {
     "name": "stdout",
     "output_type": "stream",
     "text": [
      "7\n",
      "15 11 4 8 5 2 4\n",
      "2\n"
     ]
    }
   ],
   "source": [
    "# 내 풀이\n",
    "num = int(input())\n",
    "array = list(map(int,input().split(' ')))\n",
    "\n",
    "# dp인지도 모르겠고, 접근 조차도 못하겠다....\n",
    "# => LIS 알고리즘 원리 공부 후 풀이\n",
    "d = [1]*num\n",
    "for i in range(1,len(array)):\n",
    "    for j in range(i):\n",
    "        if array[i] <= array[j]:\n",
    "            d[i] = max(d[i],d[j]+1)\n",
    "result = num - max(d)\n",
    "print(result)"
   ]
  },
  {
   "cell_type": "code",
   "execution_count": 4,
   "metadata": {},
   "outputs": [
    {
     "name": "stdout",
     "output_type": "stream",
     "text": [
      "7\n",
      "15 11 4 8 5 2 4\n",
      "2\n"
     ]
    }
   ],
   "source": [
    "# 모범 답안\n",
    "num = int(input())\n",
    "array = list(map(int,input().split(' ')))\n",
    "\n",
    "array.reverse()\n",
    "d = [1]*num\n",
    "for i in range(1,num):\n",
    "    for j in range(i):\n",
    "        if array[i] > array[j]:\n",
    "            d[i] = max(d[i],d[j]+1)\n",
    "print(num - max(d))"
   ]
  },
  {
   "cell_type": "markdown",
   "metadata": {},
   "source": [
    "### <span style=\"color:blue\">처음에는 어떤 병사를 빼야할지에 초점을 맞추어 풀다가 감도 못잡은 문제. <br><br>이게 과연 dp로 풀 수 있는게 맞긴 한건가라는 생각도 들었다. <br><br>하지만, 핵심은 array의 아이템이 '가장 마지막에 온다면 정답의 길이가 얼마인가?'를 dp테이블에 기록해나가면 풀 수 있는 문제였다. <br><br>LIS 알고리즘이라고도 한다! 유명한 알고리즘이니 유의하자. </span>"
   ]
  },
  {
   "cell_type": "markdown",
   "metadata": {},
   "source": [
    "<br><br><br><br>"
   ]
  },
  {
   "cell_type": "markdown",
   "metadata": {},
   "source": [
    "<h1>8. Shortest Path Problem (최단 경로 문제)</h1>"
   ]
  },
  {
   "cell_type": "markdown",
   "metadata": {},
   "source": [
    "* <h3>다익스트라 최단 경로 알고리즘</h3>"
   ]
  },
  {
   "cell_type": "markdown",
   "metadata": {},
   "source": [
    "    : 특정 출발 노드로부터 다른 모든 노드까지의 최단 거리를 구할 때 사용"
   ]
  },
  {
   "cell_type": "markdown",
   "metadata": {},
   "source": [
    "    특징 : \n",
    "        1. 그리디 알고리즘을 사용.\n",
    "        \n",
    "        2. 단계를 거치며 한 번 처리된 노드의 최단 거리는 고정\n",
    "            ==> 한 단계당 하나의 노드에 대한 최단 거리는 확실히 찾음.\n",
    "            \n",
    "        3. dp 와 유사하게, 테이블에 각 노드까지의 최단 거리 정보가 저장됨.\n",
    "            * 최단 경로까지 구하려면 추가적인 로직이 필요"
   ]
  },
  {
   "cell_type": "markdown",
   "metadata": {},
   "source": [
    "![dijkstra](dijkstra.jpg)"
   ]
  },
  {
   "cell_type": "code",
   "execution_count": null,
   "metadata": {},
   "outputs": [],
   "source": [
    "# 다익스트라 알고리즘 구현\n",
    "import sys\n",
    "inputs = sys.stdin.readline\n",
    "INF = int(1e10)\n",
    "\n",
    "node,artery = map(int,input().split())\n",
    "start = int(input())\n",
    "graph = [[] for _ in range(node+1)]\n",
    "visited = [False]*(node+1)\n",
    "distance = [INF]*(node+1)\n",
    "\n",
    "# 간선 정보 입력\n",
    "for _ in range(artery):\n",
    "    start_node,end_node,cost = map(int,input().split())\n",
    "    graph[start_node].append((end_node1,cost))\n",
    "\n",
    "def get_smallest_node():\n",
    "    min_value = INF\n",
    "    index = 0\n",
    "    for i in range(1,node+1):\n",
    "        if distance[i] < min_value and not visited[i]:\n",
    "            min_value = distance[i]\n",
    "            index = i\n",
    "    return index\n",
    "    \n",
    "def dijkstra(start):\n",
    "    distance[start] = 0\n",
    "    visited[start] = True\n",
    "    for i in graph[start]:\n",
    "        distance[i[0]] = i[1]\n",
    "    \n",
    "    for _ in range(node-1):\n",
    "        now = get_smallest_node()\n",
    "        visited[now] = True\n",
    "        for j in graph[now]:\n",
    "            costs = distance[now] + j[1]\n",
    "            if costs < distance[j[0]]:\n",
    "                distance[j[0]] = costs\n",
    "                \n",
    "\n",
    "dijkstra(start)\n",
    "\n",
    "for i in range(1,node+1):\n",
    "    if distance[i] == INF:\n",
    "        print(\"INFINITY\")\n",
    "    else:\n",
    "        print(distance[i])"
   ]
  },
  {
   "cell_type": "markdown",
   "metadata": {},
   "source": [
    "입력값 :<br>\n",
    "6 11<br>\n",
    "1<br>\n",
    "1 2 2<br>\n",
    "1 3 5<br>\n",
    "1 4 1<br>\n",
    "2 3 3<br>\n",
    "2 4 2<br>\n",
    "3 2 3<br>\n",
    "3 6 5<br>\n",
    "4 3 3<br>\n",
    "4 5 1<br>\n",
    "5 3 1<br>\n",
    "5 6 2<br>"
   ]
  },
  {
   "cell_type": "markdown",
   "metadata": {},
   "source": [
    "총 N번에 걸쳐 최단 거리가 가장 짧은 노드를 매번 선형탐색하므로, 시간 복잡도는 O(N^2) <br>\n",
    "==> 즉, 전체 노드 개수가 5000개 이하라면 사용 가능\n",
    "\n"
   ]
  },
  {
   "cell_type": "markdown",
   "metadata": {},
   "source": [
    "<h4><u>하지만, 노드 개수가 10000개 이상이라면 어떻게 해야할까?</u></h4>"
   ]
  },
  {
   "cell_type": "markdown",
   "metadata": {},
   "source": [
    "* <h3>우선순위 큐</h3>"
   ]
  },
  {
   "cell_type": "markdown",
   "metadata": {},
   "source": [
    "    최소 힙 : (우선순위)값이 낮은 데이터부터 \n",
    "    최대 힙 : (우선순위)값이 높은 데이터부터"
   ]
  },
  {
   "cell_type": "markdown",
   "metadata": {},
   "source": [
    "삽입, 삭제 모두 log(N) 이라는 특징이 있다!!!"
   ]
  },
  {
   "cell_type": "code",
   "execution_count": 22,
   "metadata": {},
   "outputs": [
    {
     "name": "stdout",
     "output_type": "stream",
     "text": [
      "[0, 1, 2, 3, 4, 5, 6, 7, 8, 9]\n"
     ]
    }
   ],
   "source": [
    "# 파이썬 heap 구현 (최소 힙)\n",
    "import heapq\n",
    "\n",
    "# 오름차순 힙 정렬\n",
    "def heapsort(iterable):\n",
    "    h = []\n",
    "    result = []\n",
    "    for value in iterable:\n",
    "        heapq.heappush(h,value)     # nlogn\n",
    "        \n",
    "    for i in range(len(h)):\n",
    "        result.append(heapq.heappop(h))    # nlogn\n",
    "    return result\n",
    "\n",
    "result = heapsort([1,3,5,7,9,2,4,6,8,0])\n",
    "print(result)"
   ]
  },
  {
   "cell_type": "code",
   "execution_count": 23,
   "metadata": {},
   "outputs": [
    {
     "name": "stdout",
     "output_type": "stream",
     "text": [
      "[9, 8, 7, 6, 5, 4, 3, 2, 1, 0]\n"
     ]
    }
   ],
   "source": [
    "# 최대 힙 구현\n",
    "import heapq\n",
    "\n",
    "# 내림차순 힙 정렬\n",
    "def heapsort(iterable):\n",
    "    h = []\n",
    "    result = []\n",
    "    for value in iterable:\n",
    "        heapq.heappush(h,-value)\n",
    "        \n",
    "    for i in range(len(h)):\n",
    "        result.append(-heapq.heappop(h))\n",
    "        \n",
    "    return result\n",
    "\n",
    "result = heapsort([1,3,5,7,9,2,4,6,8,0])\n",
    "print(result)"
   ]
  },
  {
   "cell_type": "code",
   "execution_count": 27,
   "metadata": {},
   "outputs": [
    {
     "name": "stdout",
     "output_type": "stream",
     "text": [
      "[(0, 1)] Before pop\n",
      "[] After pop\n",
      "[(1, 4), (5, 3), (2, 2)] Before pop\n",
      "[(2, 2), (5, 3)] After pop\n",
      "[(1, 5), (2, 2), (3, 3), (5, 3)] Before pop\n",
      "[(2, 2), (5, 3), (3, 3)] After pop\n",
      "[(1, 3), (2, 2), (3, 3), (5, 3), (2, 6)] Before pop\n",
      "[(2, 2), (2, 6), (3, 3), (5, 3)] After pop\n",
      "[(2, 2), (2, 6), (3, 3), (5, 3), (3, 2), (5, 6)] Before pop\n",
      "[(2, 6), (3, 2), (3, 3), (5, 3), (5, 6)] After pop\n",
      "[(2, 4), (3, 2), (2, 6), (5, 3), (5, 6), (3, 3), (3, 3)] Before pop\n",
      "[(2, 6), (3, 2), (3, 3), (5, 3), (5, 6), (3, 3)] After pop\n",
      "0\n",
      "2\n",
      "3\n",
      "1\n",
      "2\n",
      "4\n",
      "[False, True, True, True, True, True, False]\n"
     ]
    }
   ],
   "source": [
    "# 힙 자료구조를 이용한 다익스트라 알고리즘 개선 : 내 풀이\n",
    "\n",
    "import sys\n",
    "import heapq\n",
    "inputs = sys.stdin.readline\n",
    "INF = int(1e10)\n",
    "\n",
    "'''node,artery = map(int,input().split())\n",
    "start = int(input())'''\n",
    "graph = [[] for _ in range(node+1)]\n",
    "visited = [False]*(node+1)\n",
    "distance = [INF]*(node+1)\n",
    "h = []\n",
    "\n",
    "# 입력값 예시\n",
    "node,artery = 6,11\n",
    "start = 1\n",
    "graph = [[], [(2, 2), (3, 5), (4, 1)], [(3, 3), (4, 2)], [(2, 3), (6, 5)], [(3, 3), (5, 1)], [(3, 1), (6, 2)], []]\n",
    "\n",
    "'''for _ in range(artery):\n",
    "    start_node,end_node,cost = map(int,input().split())\n",
    "    graph[start_node].append((end_node,cost))\n",
    "\n",
    "print(graph,'graph')'''\n",
    "    \n",
    "def dijkstra(start):\n",
    "    heapq.heappush(h,(0,start))\n",
    "    for i in graph[start]:\n",
    "        distance[i[0]] = i[1]\n",
    "    distance[start] = 0\n",
    "    \n",
    "    for _ in range(node):\n",
    "        print(h,'Before pop')\n",
    "        now = heapq.heappop(h)\n",
    "        print(h,'After pop')\n",
    "        visited[now[1]] = True\n",
    "        for j in graph[now[1]]:\n",
    "            costs = distance[now[1]] + j[1]\n",
    "            if costs < distance[j[0]]:\n",
    "                distance[j[0]] = costs\n",
    "\n",
    "            heapq.heappush(h,(j[1],j[0]))\n",
    "\n",
    "dijkstra(start)\n",
    "\n",
    "for i in range(1,node+1):\n",
    "    if distance[i] == INF:\n",
    "        print(\"INFINITY\")\n",
    "    else:\n",
    "        print(distance[i])\n",
    "        \n",
    "print(visited)"
   ]
  },
  {
   "cell_type": "code",
   "execution_count": 28,
   "metadata": {},
   "outputs": [
    {
     "name": "stdout",
     "output_type": "stream",
     "text": [
      "0\n",
      "2\n",
      "3\n",
      "1\n",
      "2\n",
      "4\n"
     ]
    }
   ],
   "source": [
    "# 힙 자료구조를 이용한 다익스트라 알고리즘 개선 : 모범 답안\n",
    "\n",
    "import sys\n",
    "import heapq\n",
    "inputs = sys.stdin.readline\n",
    "INF = int(1e10)\n",
    "\n",
    "'''node,artery = map(int,input().split())\n",
    "start = int(input())'''\n",
    "graph = [[] for _ in range(node+1)]\n",
    "visited = [False]*(node+1)\n",
    "distance = [INF]*(node+1)\n",
    "\n",
    "# 입력값 예시\n",
    "node,artery = 6,11\n",
    "start = 1\n",
    "graph = [[], [(2, 2), (3, 5), (4, 1)], [(3, 3), (4, 2)], [(2, 3), (6, 5)], [(3, 3), (5, 1)], [(3, 1), (6, 2)], []]\n",
    "\n",
    "'''for _ in range(artery):\n",
    "    start_node,end_node,cost = map(int,input().split())\n",
    "    graph[start_node].append((end_node,cost))\n",
    "\n",
    "print(graph,'graph')'''\n",
    "    \n",
    "def dijkstra(start):\n",
    "    h = []\n",
    "    heapq.heappush(h,(0,start))\n",
    "    distance[start] = 0\n",
    "    while h:\n",
    "        dlist,now = heapq.heappop(h)\n",
    "        \n",
    "        # 이미 now까지의 거리가 가장 작은 경우 : 이미 방문한 노드\n",
    "        if distance[now] < dlist:\n",
    "            continue\n",
    "        \n",
    "        # 현재 노드와 인접한 다른 노드 확인\n",
    "        for i in graph[now]:\n",
    "            cost = dlist + i[1]\n",
    "            # 현재 노드를 거쳐서 가는게 원래 가는 것 보다 거리가 더 짧은 경우\n",
    "            if cost < distance[i[0]]:\n",
    "                distance[i[0]] = cost\n",
    "                heapq.heappush(h,(cost,i[0]))\n",
    "        \n",
    "        \n",
    "    \n",
    "\n",
    "dijkstra(start)\n",
    "\n",
    "for i in range(1,node+1):\n",
    "    if distance[i] == INF:\n",
    "        print(\"INFINITY\")\n",
    "    else:\n",
    "        print(distance[i])\n",
    "        "
   ]
  },
  {
   "cell_type": "markdown",
   "metadata": {},
   "source": [
    "* <h3>플로이드 워셜 알고리즘</h3>"
   ]
  },
  {
   "cell_type": "markdown",
   "metadata": {},
   "source": [
    "모든 노드 -> 모든 노드 까지의 최단 경로 모두 계산"
   ]
  },
  {
   "cell_type": "markdown",
   "metadata": {},
   "source": [
    "#### 특정한 노드(모든 노드)를 기준으로, 이 노드를 거쳐서 가는게 빠른지, 원래 있던게 빠른지 계산 후 갱신"
   ]
  },
  {
   "cell_type": "markdown",
   "metadata": {},
   "source": [
    "![Floyd-Warshall.jpg](Floyd-Warshall.jpg)"
   ]
  },
  {
   "cell_type": "code",
   "execution_count": 4,
   "metadata": {},
   "outputs": [
    {
     "name": "stdout",
     "output_type": "stream",
     "text": [
      "0 4 8 6 \n",
      "3 0 7 9 \n",
      "5 9 0 4 \n",
      "7 11 2 0 \n"
     ]
    }
   ],
   "source": [
    "# 플로이드 워셜 알고리즘 : 내 풀이\n",
    "# : 원래 풀이와는 다르게 if에 예외처리를 많이 해줌. 보기에 깔끔하지는 않지만, 약 3n 정도의 연산을 줄일 수 있어서 좋은 듯?\n",
    "INF = int(10e9)\n",
    "\n",
    "'''\n",
    "node = int(input())\n",
    "artrey = int(input())\n",
    "\n",
    "graph = [[INF]*(node+1) for _ in range(node+1)]\n",
    "\n",
    "\n",
    "\n",
    "for i in range(1,node+1):\n",
    "    for j in range(1,node+1):\n",
    "        if i == j:\n",
    "            graph[i][j] = 0\n",
    "\n",
    "\n",
    "for _ in range(artrey):\n",
    "    start,end,cost = map(int,input().split())\n",
    "    graph[start][end] = cost\n",
    "    '''\n",
    "    \n",
    "# 예시 결과    \n",
    "graph = [[10000000000, 10000000000, 10000000000, 10000000000, 10000000000], \n",
    "         [10000000000, 0, 4, 10000000000, 6], \n",
    "         [10000000000, 3, 0, 7, 10000000000], \n",
    "         [10000000000, 5, 10000000000, 0, 4], \n",
    "         [10000000000, 10000000000, 10000000000, 2, 0]]\n",
    "    \n",
    "# 점화식에 따른 플로이드 워셜 알고리즘\n",
    "for pass_through_node in range(1,node+1):\n",
    "    for start in range(1,node+1):\n",
    "        for end in range(1,node+1):\n",
    "            if start != pass_through_node and end != pass_through_node and start != end:\n",
    "                graph[start][end] = min(graph[start][end], graph[start][pass_through_node] + graph[pass_through_node][end])\n",
    "                \n",
    "\n",
    "for start in range(1,node+1):\n",
    "    for end in range(1,node+1):\n",
    "        if graph[start][end] == INF:\n",
    "            print(\"INFINITY\",end=\" \")\n",
    "        else:\n",
    "            print(graph[start][end],end=\" \")\n",
    "            \n",
    "    print()"
   ]
  },
  {
   "cell_type": "markdown",
   "metadata": {},
   "source": [
    "시간복잡도는 O(n^3) !! \n",
    "<br> 즉, 노드의 개수는 500개 이하여야도 시간초과가 날 수가 있음."
   ]
  },
  {
   "cell_type": "markdown",
   "metadata": {},
   "source": [
    "<h3> 문제 1 ) 전보</h3>"
   ]
  },
  {
   "cell_type": "code",
   "execution_count": 4,
   "metadata": {},
   "outputs": [
    {
     "name": "stdout",
     "output_type": "stream",
     "text": [
      "5 8 2\n",
      "4 13\n"
     ]
    }
   ],
   "source": [
    "# 내 풀이 2\n",
    "import heapq\n",
    "city_node,path_num,start_city = map(int,input().split())\n",
    "'''graph = [[] for _ in range(city_node+1)]\n",
    "for _ in range(path_num):\n",
    "    start,end,time = map(int,input().split())\n",
    "    graph[start].append((time,end))'''\n",
    "\n",
    "\n",
    "graph = [[], [(4, 2), (2, 3)], [(2, 1), (6, 4)], [(8, 2), (5, 4)], [(7, 5)], [(5, 4)]]\n",
    "\n",
    "h = []\n",
    "distance = [1001]*(city_node+1)\n",
    "heapq.heappush(h,(0,start_city))\n",
    "distance[start_city] = 0\n",
    "\n",
    "while h:\n",
    "    cost,now = heapq.heappop(h)\n",
    "    if distance[now] < cost:\n",
    "        continue \n",
    "    for cost_2,end in graph[now]:\n",
    "        pass_through_costs = cost + cost_2\n",
    "        if pass_through_costs < distance[end]:\n",
    "            distance[end] = pass_through_costs\n",
    "            heapq.heappush(h,(pass_through_costs,end))\n",
    "            \n",
    "            \n",
    "received_city_num = len(distance) - distance.count(1001) - 1\n",
    "maxs=0\n",
    "for i in distance:\n",
    "    if i != 1001:\n",
    "        maxs = max(maxs,i)\n",
    "        \n",
    "print(received_city_num,maxs)"
   ]
  },
  {
   "cell_type": "markdown",
   "metadata": {},
   "source": [
    "<h3> 문제 2 ) 미래 도시</h3>"
   ]
  },
  {
   "cell_type": "code",
   "execution_count": 54,
   "metadata": {},
   "outputs": [
    {
     "name": "stdout",
     "output_type": "stream",
     "text": [
      "8 9\n",
      "7 8\n",
      "3 5 qwefef\n",
      "8\n"
     ]
    }
   ],
   "source": [
    "# 내 풀이 : bfs로도 풀리지 않나?\n",
    "from collections import deque\n",
    "company_num,path_num = map(int,input().split())\n",
    "'''graph = [[] for _ in range(company_num+1)]\n",
    "for _ in range(path_num):\n",
    "    com1,com2 = map(int,input().split())\n",
    "    graph[com1].append(com2)\n",
    "    graph[com2].append(com1)\n",
    "'''\n",
    "destination,interface = map(int,input().split())\n",
    "graph = [[], [3, 5], [3, 4], [1, 2, 4, 7], [2, 3, 5], [1, 4, 6], [5, 8], [3], [6],[]]\n",
    "# graph = [[], [2, 3, 4], [1, 4], [1, 4, 5], [1, 2, 3, 5], [3, 4]]\n",
    "def bfs(start_node, end_node):\n",
    "    global graph,company_num\n",
    "\n",
    "    visited = [False]*(company_num + 1)\n",
    "    q = deque([(start_node,0)])\n",
    "    visited[start_node] = True\n",
    "\n",
    "    while q:\n",
    "        now,distance = q.popleft()\n",
    "        if now == end_node :\n",
    "            return distance\n",
    "        \n",
    "        for connected_nodes in graph[now]:\n",
    "            if not visited[connected_nodes]:\n",
    "                visited[connected_nodes] = True\n",
    "                q.append((connected_nodes,distance + 1))\n",
    "    \n",
    "\n",
    "    return -1\n",
    "\n",
    "\n",
    "before = bfs(1,interface)\n",
    "after = bfs(interface,destination)\n",
    "\n",
    "print(before,after,'qwefef')\n",
    "\n",
    "if before != -1 and after != -1:\n",
    "    print(before + after)\n",
    "    \n",
    "else:\n",
    "    print(-1)"
   ]
  },
  {
   "cell_type": "code",
   "execution_count": 39,
   "metadata": {},
   "outputs": [
    {
     "name": "stdout",
     "output_type": "stream",
     "text": [
      "5 7\n",
      "1 2\n",
      "1 3\n",
      "1 4\n",
      "2 4\n",
      "3 4\n",
      "3 5\n",
      "4 5\n",
      "초기화 [[1000000000, 1000000000, 1000000000, 1000000000, 1000000000, 1000000000], [1000000000, 0, 1, 1, 1, 1000000000], [1000000000, 1, 0, 1000000000, 1, 1000000000], [1000000000, 1, 1000000000, 0, 1, 1], [1000000000, 1, 1, 1, 0, 1], [1000000000, 1000000000, 1000000000, 1, 1, 0]]\n",
      "4 5\n",
      "알고리즘 수행 후 [[1000000000, 1000000000, 1000000000, 1000000000, 1000000000, 1000000000], [1000000000, 0, 1, 1, 1, 2], [1000000000, 1, 0, 2, 1, 2], [1000000000, 1, 2, 0, 1, 1], [1000000000, 1, 1, 1, 0, 1], [1000000000, 2, 2, 1, 1, 0]]\n",
      "2\n",
      "1\n",
      "3\n"
     ]
    }
   ],
   "source": [
    "# 플로이드 워셜 알고리즘\n",
    "INF = int(1e9) # 무한을 의미하는 값으로 10억을 설정\n",
    "\n",
    "# 노드의 개수 및 간선의 개수를 입력받기\n",
    "n, m = map(int, input().split())\n",
    "# 2차원 리스트(그래프 표현)를 만들고, 모든 값을 무한으로 초기화\n",
    "graph = [[INF] * (n + 1) for _ in range(n + 1)]\n",
    "\n",
    "# 자기 자신에서 자기 자신으로 가는 비용은 0으로 초기화\n",
    "for a in range(1, n + 1):\n",
    "    for b in range(1, n + 1):\n",
    "        if a == b:\n",
    "            graph[a][b] = 0\n",
    "\n",
    "# 각 간선에 대한 정보를 입력 받아, 그 값으로 초기화\n",
    "for _ in range(m):\n",
    "    # A와 B가 서로에게 가는 비용은 1이라고 설정\n",
    "    a, b = map(int, input().split())\n",
    "    graph[a][b] = 1\n",
    "    graph[b][a] = 1\n",
    "\n",
    "print(\"초기화\",graph)\n",
    "# 거쳐 갈 노드 X와 최종 목적지 노드 K를 입력받기\n",
    "x, k = map(int, input().split())\n",
    "\n",
    "# 점화식에 따라 플로이드 워셜 알고리즘을 수행\n",
    "for k in range(1, n + 1):\n",
    "    for a in range(1, n + 1):\n",
    "        for b in range(1, n + 1):\n",
    "            graph[a][b] = min(graph[a][b], graph[a][k] + graph[k][b])\n",
    "print(\"알고리즘 수행 후\",graph)\n",
    "# 수행된 결과를 출력\n",
    "print(graph[1][k])\n",
    "print(graph[k][x])\n",
    "distance = graph[1][k] + graph[k][x]\n",
    "\n",
    "# 도달할 수 없는 경우, -1을 출력\n",
    "if distance >= 1e9:\n",
    "    print(\"-1\")\n",
    "# 도달할 수 있다면, 최단 거리를 출력\n",
    "else:\n",
    "    print(distance)\n"
   ]
  }
 ],
 "metadata": {
  "kernelspec": {
   "display_name": "Python 3",
   "language": "python",
   "name": "python3"
  },
  "language_info": {
   "codemirror_mode": {
    "name": "ipython",
    "version": 3
   },
   "file_extension": ".py",
   "mimetype": "text/x-python",
   "name": "python",
   "nbconvert_exporter": "python",
   "pygments_lexer": "ipython3",
   "version": "3.7.4"
  }
 },
 "nbformat": 4,
 "nbformat_minor": 4
}
