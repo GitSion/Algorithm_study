{
 "cells": [
  {
   "cell_type": "markdown",
   "metadata": {},
   "source": [
    "### <span style=\"color:blue\"></span>"
   ]
  },
  {
   "cell_type": "markdown",
   "metadata": {},
   "source": [
    "<h1>8. 기타 그래프 이론</h1> <br>"
   ]
  },
  {
   "cell_type": "markdown",
   "metadata": {},
   "source": [
    "<h2>1) 서로소 집합 자료구조</h2>"
   ]
  },
  {
   "cell_type": "markdown",
   "metadata": {},
   "source": [
    "* Union 연산 : 두 개의 원소가 포함된 집합을 하나의 집합으로 합치는 연산\n",
    "* Find 연산 : 특정한 원소가 속한 집합이 어떤 집합인지 알려주는 연산\n",
    "<br><br>\n",
    "서로소 집합 자료구조를 Union FInd data structure 라고 부르기도 함"
   ]
  },
  {
   "cell_type": "markdown",
   "metadata": {},
   "source": [
    "<h3> 동작 과정</h3>\n",
    "<br>\n",
    "1. Union 연산을 확인하여, 서로 연결된 두 노드 A,B를 확인한다.\n",
    "<br><br><pre>\n",
    "    1) A,B의 루트 노드 a,b를 찾는다.<br>\n",
    "    2) a를 b의 부모 노드로 설정한다.\n",
    "<br><br></pre>    \n",
    "2. 모든 Union 연산을 처리할 때까지 1번의 과정을 반복한다."
   ]
  },
  {
   "cell_type": "code",
   "execution_count": 2,
   "metadata": {},
   "outputs": [
    {
     "name": "stdout",
     "output_type": "stream",
     "text": [
      "6 4\n",
      "1 4\n",
      "2 3\n",
      "2 4\n",
      "5 6\n",
      "각 원소가 포함된 집합 :1 1 1 1 5 5 \n",
      "부모 테이블 :1 1 2 1 5 5 "
     ]
    }
   ],
   "source": [
    "# 서로소 집합 자료구조 구현\n",
    "\n",
    "def find_parent(parent,x):\n",
    "    if parent[x] != x:\n",
    "        return find_parent(parent,parent[x])\n",
    "    else:\n",
    "        return x\n",
    "    \n",
    "def union_parent(parent,a,b):\n",
    "    a = find_parent(parent,a)\n",
    "    b = find_parent(parent,b)\n",
    "    \n",
    "    if a < b:\n",
    "        parent[b] = a\n",
    "    else:\n",
    "        parent[a] = b\n",
    "        \n",
    "\n",
    "node, artery = map(int,input().split())\n",
    "parent = [0]*(node + 1)\n",
    "\n",
    "for i in range(1,node+1):\n",
    "    parent[i] = i\n",
    "    \n",
    "        \n",
    "# Union 연산 시행\n",
    "for _ in range(artery):\n",
    "    a,b = map(int,input().split())\n",
    "    union_parent(parent,a,b)\n",
    "    \n",
    "# 각 원소가 포함된 집합 찾기\n",
    "print('각 원소가 포함된 집합 :', end='')\n",
    "for i in range(1,node+1):\n",
    "    print(find_parent(parent,i), end=' ')\n",
    "    \n",
    "print()\n",
    "\n",
    "# 부모 테이블 내용 출력\n",
    "print('부모 테이블 :', end='')\n",
    "for i in range(1,node+1):\n",
    "    print(parent[i], end=' ')"
   ]
  },
  {
   "cell_type": "markdown",
   "metadata": {},
   "source": [
    "모든 노드가 연결되어있을 경우 == 최악의 경우<br> : 시간복잡도는 O(n)"
   ]
  },
  {
   "cell_type": "markdown",
   "metadata": {},
   "source": [
    "<b><u>만약 find 연산에서 한번 연결된 노드의 부모값을 parent에 저장해버린다면? (dp활용)\n",
    "    <br> ==> 경로 압축</u></b>"
   ]
  },
  {
   "cell_type": "code",
   "execution_count": 7,
   "metadata": {},
   "outputs": [],
   "source": [
    "def find_parent(parent,x):\n",
    "    if parent[x] != x:\n",
    "        parent[x] = find_parent(parent,parent[x])\n",
    "    return x"
   ]
  },
  {
   "cell_type": "markdown",
   "metadata": {},
   "source": [
    "Find 함수의 시간복잡도가 O(1)이 됨!!!"
   ]
  },
  {
   "cell_type": "markdown",
   "metadata": {},
   "source": [
    "<h3>서로소 집합을 활용하면 그래프의 사이클 판별이 가능!</h3>"
   ]
  },
  {
   "cell_type": "code",
   "execution_count": 6,
   "metadata": {},
   "outputs": [
    {
     "name": "stdout",
     "output_type": "stream",
     "text": [
      "6 4\n",
      "1 4\n",
      "2 4\n",
      "2 3\n",
      "5 6\n",
      "사이클 없음\n"
     ]
    }
   ],
   "source": [
    "def find_parent(parent,x):\n",
    "    if parent[x] != x:\n",
    "        parent[x] = find_parent(parent,parent[x])\n",
    "    return parent[x]\n",
    "\n",
    "def union_parent(parent,a,b):\n",
    "    a = find_parent(parent,a)\n",
    "    b = find_parent(parent,b)\n",
    "    if a < b:\n",
    "        \n",
    "        parent[b] = a\n",
    "    else:\n",
    "        parent[a] = b\n",
    "        \n",
    "node, artery = map(int,input().split())\n",
    "parent = [0]*(node + 1)\n",
    "\n",
    "for i in range(1,node+1):\n",
    "    parent[i] = i\n",
    "\n",
    "cycle = False\n",
    "\n",
    "for _ in range(artery):\n",
    "    a,b = map(int,input().split())\n",
    "    if find_parent(parent,a) == find_parent(parent,b):\n",
    "        cycle = True\n",
    "        break\n",
    "    else:\n",
    "        union_parent(parent,a,b)\n",
    "    \n",
    "if cycle:\n",
    "    print(\"사이클 발생\")\n",
    "else:\n",
    "    print(\"사이클 없음\")"
   ]
  },
  {
   "cell_type": "code",
   "execution_count": 4,
   "metadata": {},
   "outputs": [
    {
     "name": "stdout",
     "output_type": "stream",
     "text": [
      "6 4\n",
      "1 4\n",
      "2 4\n",
      "2 3\n",
      "5 6\n",
      "사이클이 발생하지 않았습니다.\n"
     ]
    }
   ],
   "source": [
    "# 특정 원소가 속한 집합 찾기\n",
    "def find_parent(parent, x):\n",
    "    # 루트 노드가 아니면 루트 노드를 찾을 때까지 재귀적으로 호출\n",
    "    if parent[x] != x:\n",
    "        parent[x] = find_parent(parent, parent[x])\n",
    "    return parent[x]\n",
    "\n",
    "# 두 원소가 속한 집합 합치기\n",
    "def union_parent(parent, a, b):\n",
    "    a = find_parent(parent, a)\n",
    "    b = find_parent(parent, b)\n",
    "    if a < b:\n",
    "        parent[b] = a\n",
    "    else:\n",
    "        parent[a] = b\n",
    "\n",
    "# 노드와 간선의 개수 입력 받기\n",
    "v, e = map(int, input().split())\n",
    "parent = [0] * (v + 1) # 부모 테이블 초기화\n",
    "\n",
    "# 부모를 자기 자신으로 초기화\n",
    "for i in range(1, v + 1):\n",
    "    parent[i] = i\n",
    "\n",
    "cycle = False # 사이클 발생 여부\n",
    "\n",
    "for i in range(e):\n",
    "    a, b = map(int, input().split())\n",
    "    # 사이클이 발생하면 종료\n",
    "    if find_parent(parent, a) == find_parent(parent, b):\n",
    "        cycle = True\n",
    "        break\n",
    "    # 사이클이 발생하지 않았으면 합집합 연산 수행\n",
    "    else:\n",
    "        union_parent(parent, a, b)\n",
    "\n",
    "if cycle:\n",
    "    print(\"사이클이 발생했습니다.\")\n",
    "else:\n",
    "    print(\"사이클이 발생하지 않았습니다.\")"
   ]
  },
  {
   "cell_type": "markdown",
   "metadata": {},
   "source": [
    "### <span style=\"color:blue\">간과한 개념이 하나 있었다. 재귀함수에서 return을 만난다고 모든 함수가 취소되는 것이 아닌,<br><br> 재귀staack의 가장 상단부분만 return 되므로 나머지도 return이 되게 처리해야 reutrn None이 안나옴<br><br><br> ==> 그냥 else를 안 넣으면 되는거였네..!</span> <br><br><br>"
   ]
  },
  {
   "cell_type": "markdown",
   "metadata": {},
   "source": [
    "<h2>2) 신장 트리</h2>"
   ]
  },
  {
   "cell_type": "markdown",
   "metadata": {},
   "source": [
    ": 그래프에서 모든 노드가 포함되면서, 사이클이 존재하지 않는 부분 그래프<br>\n",
    "* 모든 노드가 포함되어 서로 연결되면서 사이클이 존재하지 않는다 ==> <b>트리의 조건과도 동일!"
   ]
  },
  {
   "cell_type": "markdown",
   "metadata": {},
   "source": [
    "<h3>최소 신장 트리</h3>"
   ]
  },
  {
   "cell_type": "markdown",
   "metadata": {},
   "source": [
    ": 최소한의 비용으로 구성되는 신장 트리"
   ]
  },
  {
   "cell_type": "markdown",
   "metadata": {},
   "source": [
    "<h3>크루스칼 알고리즘</h3>"
   ]
  },
  {
   "cell_type": "markdown",
   "metadata": {},
   "source": [
    ": 대표적인 최소신장트리 알고리즘 <br>\n",
    "<br>\n",
    "* 그리디 알고리즘으로 분류\n",
    "<br>\n",
    "<br><b>\n",
    "    1. 간선 데이터 비용을 오름차순 시킨다.<br><br>\n",
    "    2. 간선을 하나씩 확인하며 해당 간선이 사이클을 발생시키는지 확인한다.<br><br>\n",
    "    \n",
    "        1) 사이클 발생 X : 최소 신장 트리에 포함시킨다.<br>\n",
    "        2) 사이클 발생 O : 최소 신장 트리에 포함시키지 않는다.<br>\n",
    "    <br>\n",
    "    3. 모든 간선에 대해 2번 과정 반복<br>\n",
    "</b>"
   ]
  },
  {
   "cell_type": "markdown",
   "metadata": {},
   "source": [
    "![wef](cruscal.png)"
   ]
  },
  {
   "cell_type": "code",
   "execution_count": 9,
   "metadata": {},
   "outputs": [
    {
     "name": "stdout",
     "output_type": "stream",
     "text": [
      "7 9\n",
      "1 2 29\n",
      "1 5 75\n",
      "2 3 35\n",
      "2 6 34\n",
      "3 4 7\n",
      "4 6 23\n",
      "4 7 13\n",
      "5 6 53\n",
      "6 7 25\n",
      "294\n"
     ]
    }
   ],
   "source": [
    "# 크루스칼 알고리즘 구현 \n",
    "def find_parent(parent, x):\n",
    "    if parent[x] != x:\n",
    "        parent[x] = find_parent(parent, parent[x])\n",
    "    return x\n",
    "\n",
    "def union_parent(parent,a,b):\n",
    "    a = find_parent(parent,a)\n",
    "    b = find_parent(parent,b)\n",
    "    \n",
    "    if a > b:\n",
    "        parent[a] = b\n",
    "    else:\n",
    "        parent[b] = a\n",
    "\n",
    "    \n",
    "node, artery = map(int,input().split())\n",
    "parent = [0]*(node + 1)\n",
    "for i in range(1,node + 1):\n",
    "    parent[i] = i\n",
    "    \n",
    "edge = []\n",
    "result = 0\n",
    "for _ in range(artery):\n",
    "    start, end, cost = map(int,input().split())\n",
    "    # 비용순으로 정렬하기 위해, tuple의 첫 번째 원소를 비용으로 설정\n",
    "    edge.append((cost,start,end))\n",
    "    \n",
    "# 간선을 비용 기준으로 정렬\n",
    "edge.sort()\n",
    "\n",
    "# 간선을 하나씩 확인\n",
    "for costs,starts,ends in edge:\n",
    "    # 사이클이 발생하지 아닌 경우, 트리에 포함\n",
    "    if find_parent(parent,starts) != find_parent(parent,ends):\n",
    "        union_parent(parent,starts,ends)\n",
    "        result += costs\n",
    "print(result)"
   ]
  },
  {
   "cell_type": "markdown",
   "metadata": {},
   "source": [
    "시간 복잡도 : O(nlogn)"
   ]
  },
  {
   "cell_type": "markdown",
   "metadata": {},
   "source": [
    "<h2>3) 위상 정렬</h2>"
   ]
  },
  {
   "cell_type": "markdown",
   "metadata": {},
   "source": [
    ": <u>사이클이 없는 방향 그래프</u> 의 모든 노드를 방향성을 따라 순서대로 나열"
   ]
  },
  {
   "cell_type": "markdown",
   "metadata": {},
   "source": [
    "* 진입차수(indegree) : 특정한 노드로 들어오는 간선의 개수\n",
    "* 진출차수(outdegree) : 특정한 노드에서 나가는 간선의 개수\n"
   ]
  },
  {
   "cell_type": "markdown",
   "metadata": {},
   "source": [
    "<h3><b>큐</b>를 이용한 위상정렬 알고리즘</h3>"
   ]
  },
  {
   "cell_type": "markdown",
   "metadata": {},
   "source": [
    "1. 진입차수가 0인 모든 노드를 큐에 넣는다.<br>\n",
    "2. 큐가 빌 때까지 다음의 과정을 반복한다.<br>\n",
    "    <pre>1) 큐에서 원소를 꺼내 해당 노드에서 나가는 간선을 모두 제거한다.\n",
    "   2) 새롭게 진입차수가 0이 된 노드를 큐에 넣는다.</pre>"
   ]
  },
  {
   "cell_type": "code",
   "execution_count": 21,
   "metadata": {},
   "outputs": [
    {
     "name": "stdout",
     "output_type": "stream",
     "text": [
      "7 8\n",
      "1 2 5 3 6 4 7 "
     ]
    }
   ],
   "source": [
    "# 큐를 이용한 위상정렬 알고리즘 구현\n",
    "from collections import deque\n",
    "node, artery = map(int,input().split()) #7 8\n",
    "'''indegree = [0]*(node+1)\n",
    "graph = [[] for _ in range(node + 1)]\n",
    "for _ in range(artery):\n",
    "    start, end = map(int,input().split())\n",
    "    graph[start].append(end)\n",
    "    indegree[end] += 1'''\n",
    "\n",
    "graph = [[], [2, 5], [3, 6], [4], [7], [6], [4], []]\n",
    "indegree = [0, 0, 1, 1, 2, 1, 2, 1]\n",
    "\n",
    "# 위상정렬 알고리즘\n",
    "def topology_sort():\n",
    "    result = []\n",
    "    q = deque()\n",
    "    \n",
    "    # 처음 진입할 때는 indegree값이 0인 노드를 큐에 삽입 \n",
    "    for i in range(1,node + 1):\n",
    "        if indegree[i] == 0:\n",
    "            q.append(i) \n",
    "    # 큐가 빌 때까지 반복\n",
    "    while q:\n",
    "        nodes = q.popleft()\n",
    "        result.append(nodes)\n",
    "        # 해당 노드와 이어진 간선을 제거\n",
    "        for i in graph[nodes]:\n",
    "            indegree[i] -= 1\n",
    "            # 진입차수가 0이면 큐에 삽입\n",
    "            if indegree[i] == 0:\n",
    "                q.append(i)\n",
    "                \n",
    "    for i in result:\n",
    "        print(i,end=' ')\n",
    "        \n",
    "topology_sort()"
   ]
  },
  {
   "cell_type": "markdown",
   "metadata": {},
   "source": [
    "<br><br><br><br><br><br>"
   ]
  },
  {
   "cell_type": "markdown",
   "metadata": {},
   "source": [
    "<h1>9. 기타 자주 쓰이는 알고리즘</h1>"
   ]
  },
  {
   "cell_type": "markdown",
   "metadata": {},
   "source": [
    "<h2> 1. 투 포인터</h2>"
   ]
  },
  {
   "cell_type": "markdown",
   "metadata": {},
   "source": [
    ": 시작점과 끝점 2개의 점으로 접근할 데이터의 범위를 표현할 수 있음."
   ]
  },
  {
   "cell_type": "markdown",
   "metadata": {},
   "source": [
    "사용되는 예제 : 특정한 합을 가지는 부분 연속 수열 찾기"
   ]
  },
  {
   "cell_type": "markdown",
   "metadata": {},
   "source": [
    "* N개의 자연수로 구성된 수열이 있습니다.<br>\n",
    "* 합이 M인 부분 연속 수열의 개수를 구해보세요.<br>\n",
    "* 수행 제한시간은 O(N)"
   ]
  },
  {
   "cell_type": "code",
   "execution_count": 6,
   "metadata": {},
   "outputs": [
    {
     "name": "stdout",
     "output_type": "stream",
     "text": [
      "3\n"
     ]
    }
   ],
   "source": [
    "# 내 풀이\n",
    "def find_sums_sequence(sqc,sums):\n",
    "    start,end = 0,0\n",
    "    result = 0\n",
    "    while start < len(sqc) and end < len(sqc):\n",
    "        partial_sums = sum(sqc[start:end+1])\n",
    "        if partial_sums < sums:\n",
    "            end += 1\n",
    "        elif partial_sums > sums:\n",
    "            start += 1\n",
    "        else:\n",
    "            result += 1\n",
    "            end += 1\n",
    "            \n",
    "        \n",
    "    return result\n",
    "\n",
    "sqc = [4,7,2,9,5,5,2,4,4,9,4]\n",
    "sums = 13\n",
    "print(find_sums_sequence(sqc,sums))\n"
   ]
  },
  {
   "cell_type": "code",
   "execution_count": 7,
   "metadata": {},
   "outputs": [
    {
     "name": "stdout",
     "output_type": "stream",
     "text": [
      "3\n"
     ]
    }
   ],
   "source": [
    "# 모범 답안\n",
    "sqc = [4,7,2,9,5,5,2,4,4,9,4]\n",
    "sums = 13\n",
    "\n",
    "count = 0\n",
    "interval_sum = 0\n",
    "end = 0\n",
    "for start in range(len(sqc)):\n",
    "    while interval_sum < sums and end < len(sqc):\n",
    "        interval_sum += sqc[end]\n",
    "        end += 1\n",
    "        \n",
    "    if interval_sum == sums:\n",
    "        count += 1\n",
    "        \n",
    "    interval_sum -= sqc[start]\n",
    "    \n",
    "print(count)"
   ]
  },
  {
   "cell_type": "markdown",
   "metadata": {},
   "source": [
    "### <span style=\"color:blue\">for문을 이용해 start 값을 증가시키는 방법도 있구나 라고 생각했다. <br><br>하지만 조금더 직관적인 코드는 내 풀이가 아닌가 싶다. 결론은 good!</span>"
   ]
  },
  {
   "cell_type": "code",
   "execution_count": 11,
   "metadata": {},
   "outputs": [
    {
     "name": "stdout",
     "output_type": "stream",
     "text": [
      "\n"
     ]
    }
   ],
   "source": [
    "import sys\n",
    "asdf = sys.stdin.readline()\n",
    "print(asdf)"
   ]
  }
 ],
 "metadata": {
  "kernelspec": {
   "display_name": "Python 3",
   "language": "python",
   "name": "python3"
  },
  "language_info": {
   "codemirror_mode": {
    "name": "ipython",
    "version": 3
   },
   "file_extension": ".py",
   "mimetype": "text/x-python",
   "name": "python",
   "nbconvert_exporter": "python",
   "pygments_lexer": "ipython3",
   "version": "3.7.4"
  }
 },
 "nbformat": 4,
 "nbformat_minor": 4
}
